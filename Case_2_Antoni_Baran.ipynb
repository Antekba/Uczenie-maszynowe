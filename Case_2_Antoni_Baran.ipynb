{
  "nbformat": 4,
  "nbformat_minor": 0,
  "metadata": {
    "colab": {
      "provenance": [],
      "authorship_tag": "ABX9TyOF1RFYnwVR5wT1XsvXyVgt",
      "include_colab_link": true
    },
    "kernelspec": {
      "name": "python3",
      "display_name": "Python 3"
    },
    "language_info": {
      "name": "python"
    }
  },
  "cells": [
    {
      "cell_type": "markdown",
      "metadata": {
        "id": "view-in-github",
        "colab_type": "text"
      },
      "source": [
        "<a href=\"https://colab.research.google.com/github/Antekba/Uczenie-maszynowe/blob/main/Case_2_Antoni_Baran.ipynb\" target=\"_parent\"><img src=\"https://colab.research.google.com/assets/colab-badge.svg\" alt=\"Open In Colab\"/></a>"
      ]
    },
    {
      "cell_type": "code",
      "execution_count": 2,
      "metadata": {
        "id": "qsGx2McjsYAc"
      },
      "outputs": [],
      "source": [
        "import numpy as np\n",
        "import pandas as pd\n",
        "import matplotlib.pyplot as plt\n",
        "import seaborn as sns"
      ]
    },
    {
      "cell_type": "code",
      "source": [
        "\n",
        "ratings = pd.read_csv('https://s3-us-west-2.amazonaws.com/recommender-tutorial/ratings.csv')\n",
        "movies = pd.read_csv('https://s3-us-west-2.amazonaws.com/recommender-tutorial/movies.csv')\n"
      ],
      "metadata": {
        "id": "vI0ZriWN2EVt"
      },
      "execution_count": 3,
      "outputs": []
    },
    {
      "cell_type": "code",
      "source": [
        "# Liczba filmów Sci-Fi\n",
        "movies['genres'] = movies['genres'].astype(str)  # Upewnienie się, że gatunki są typu string\n",
        "sci_fi_movies = movies[movies['genres'].str.contains('Sci-Fi')]\n",
        "print(f\"Liczba filmów Sci-Fi: {len(sci_fi_movies)}\")"
      ],
      "metadata": {
        "colab": {
          "base_uri": "https://localhost:8080/"
        },
        "id": "7rwXvDDf2dMp",
        "outputId": "11110fd5-22de-4643-e017-6e447903ad9b"
      },
      "execution_count": 4,
      "outputs": [
        {
          "output_type": "stream",
          "name": "stdout",
          "text": [
            "Liczba filmów Sci-Fi: 980\n"
          ]
        }
      ]
    },
    {
      "cell_type": "code",
      "source": [
        "# Rozkład ocen komedii\n",
        "comedy_movies = movies[movies['genres'].str.contains('Comedy')]\n",
        "comedy_ratings = ratings[ratings['movieId'].isin(comedy_movies['movieId'])]\n",
        "sns.countplot(x='rating', data=comedy_ratings, palette='viridis')\n",
        "plt.title('Rozkład ocen komedii', fontsize=14)\n",
        "plt.show()\n"
      ],
      "metadata": {
        "colab": {
          "base_uri": "https://localhost:8080/",
          "height": 563
        },
        "id": "lBBIN32b2foV",
        "outputId": "73617053-8c47-4bab-c4bb-30adf88470b4"
      },
      "execution_count": 5,
      "outputs": [
        {
          "output_type": "stream",
          "name": "stderr",
          "text": [
            "<ipython-input-5-8b9d2e45e621>:4: FutureWarning: \n",
            "\n",
            "Passing `palette` without assigning `hue` is deprecated and will be removed in v0.14.0. Assign the `x` variable to `hue` and set `legend=False` for the same effect.\n",
            "\n",
            "  sns.countplot(x='rating', data=comedy_ratings, palette='viridis')\n"
          ]
        },
        {
          "output_type": "display_data",
          "data": {
            "text/plain": [
              "<Figure size 640x480 with 1 Axes>"
            ],
            "image/png": "[encoded data removed]"
          },
          "metadata": {}
        }
      ]
    },
    {
      "cell_type": "code",
      "source": [
        "# Średnia ocena wszystkich filmów akcji\n",
        "action_movies = movies[movies['genres'].str.contains('Action')]\n",
        "action_ratings = ratings[ratings['movieId'].isin(action_movies['movieId'])]\n",
        "action_ratings_mean = action_ratings.groupby('movieId')['rating'].mean()\n",
        "print(f\"Średnia ocen wszystkich filmów akcji: {action_ratings_mean.mean()}\")"
      ],
      "metadata": {
        "colab": {
          "base_uri": "https://localhost:8080/"
        },
        "id": "lvfPpXsE2lJG",
        "outputId": "0faa15bf-214d-4f11-c007-47e0ff9d520c"
      },
      "execution_count": 6,
      "outputs": [
        {
          "output_type": "stream",
          "name": "stdout",
          "text": [
            "Średnia ocen wszystkich filmów akcji: 3.094498449195514\n"
          ]
        }
      ]
    },
    {
      "cell_type": "code",
      "source": [
        "# Najwyżej oceniane filmy akcji\n",
        "top_rated_action_movies = action_ratings_mean.sort_values(ascending=False).head(3)\n",
        "top_rated_action_movie_details = movies[movies['movieId'].isin(top_rated_action_movies.index)]\n",
        "for index, row in top_rated_action_movie_details.iterrows():\n",
        "    print(f\"{row['title']} - Średnia ocena: {top_rated_action_movies.loc[row['movieId']]:.2f}\")"
      ],
      "metadata": {
        "colab": {
          "base_uri": "https://localhost:8080/"
        },
        "id": "qSDwgSwu2nsd",
        "outputId": "74db1df7-6e9c-4d74-b48c-fa9b3c2e3081"
      },
      "execution_count": 7,
      "outputs": [
        {
          "output_type": "stream",
          "name": "stdout",
          "text": [
            "Love Exposure (Ai No Mukidashi) (2008) - Średnia ocena: 5.00\n",
            "Crippled Avengers (Can que) (Return of the 5 Deadly Venoms) (1981) - Średnia ocena: 5.00\n",
            "Tokyo Tribe (2014) - Średnia ocena: 5.00\n"
          ]
        }
      ]
    },
    {
      "cell_type": "code",
      "source": [
        "!pip install surprise\n",
        "import pandas as pd\n",
        "from surprise import Reader, Dataset\n",
        "from surprise import SVD, KNNWithMeans\n",
        "from surprise.model_selection import GridSearchCV, cross_validate\n"
      ],
      "metadata": {
        "colab": {
          "base_uri": "https://localhost:8080/"
        },
        "id": "0BgzWq9y29WH",
        "outputId": "2512317b-dc16-4dab-d8a0-931159630343"
      },
      "execution_count": 9,
      "outputs": [
        {
          "output_type": "stream",
          "name": "stdout",
          "text": [
            "Requirement already satisfied: surprise in /usr/local/lib/python3.10/dist-packages (0.1)\n",
            "Requirement already satisfied: scikit-surprise in /usr/local/lib/python3.10/dist-packages (from surprise) (1.1.3)\n",
            "Requirement already satisfied: joblib>=1.0.0 in /usr/local/lib/python3.10/dist-packages (from scikit-surprise->surprise) (1.4.0)\n",
            "Requirement already satisfied: numpy>=1.17.3 in /usr/local/lib/python3.10/dist-packages (from scikit-surprise->surprise) (1.25.2)\n",
            "Requirement already satisfied: scipy>=1.3.2 in /usr/local/lib/python3.10/dist-packages (from scikit-surprise->surprise) (1.11.4)\n"
          ]
        }
      ]
    },
    {
      "cell_type": "code",
      "source": [
        "# Wczytanie danych\n",
        "ratings = pd.read_csv('https://s3-us-west-2.amazonaws.com/recommender-tutorial/ratings.csv')"
      ],
      "metadata": {
        "id": "t4zlRE643cAE"
      },
      "execution_count": 10,
      "outputs": []
    },
    {
      "cell_type": "code",
      "source": [
        "# Przygotowanie danych do Surprise\n",
        "reader = Reader(rating_scale=(ratings['rating'].min(), ratings['rating'].max()))\n",
        "data = Dataset.load_from_df(ratings[['userId', 'movieId', 'rating']], reader)"
      ],
      "metadata": {
        "id": "hzOedckK32Rs"
      },
      "execution_count": 11,
      "outputs": []
    },
    {
      "cell_type": "code",
      "source": [
        "# Walidacja krzyżowa algorytmu SVD\n",
        "algo_svd = SVD()\n",
        "cross_validate(algo_svd, data, measures=['RMSE', 'MAE'], cv=5, verbose=True)"
      ],
      "metadata": {
        "colab": {
          "base_uri": "https://localhost:8080/"
        },
        "id": "L1PKSC6y3449",
        "outputId": "7f83a1b6-1825-4cdb-8d81-817e0cc6468e"
      },
      "execution_count": 12,
      "outputs": [
        {
          "output_type": "stream",
          "name": "stdout",
          "text": [
            "Evaluating RMSE, MAE of algorithm SVD on 5 split(s).\n",
            "\n",
            "                  Fold 1  Fold 2  Fold 3  Fold 4  Fold 5  Mean    Std     \n",
            "RMSE (testset)    0.8779  0.8720  0.8668  0.8782  0.8770  0.8744  0.0044  \n",
            "MAE (testset)     0.6746  0.6718  0.6670  0.6768  0.6722  0.6725  0.0033  \n",
            "Fit time          1.80    2.64    4.77    3.61    3.90    3.34    1.03    \n",
            "Test time         0.13    0.43    0.25    0.42    0.20    0.29    0.12    \n"
          ]
        },
        {
          "output_type": "execute_result",
          "data": {
            "text/plain": [
              "{'test_rmse': array([0.87786628, 0.87203909, 0.86679869, 0.87818713, 0.87699749]),\n",
              " 'test_mae': array([0.67461585, 0.67179359, 0.66697357, 0.67677397, 0.6721869 ]),\n",
              " 'fit_time': (1.7966883182525635,\n",
              "  2.6353554725646973,\n",
              "  4.773719549179077,\n",
              "  3.6123759746551514,\n",
              "  3.903369903564453),\n",
              " 'test_time': (0.12715506553649902,\n",
              "  0.4264671802520752,\n",
              "  0.2505216598510742,\n",
              "  0.4231741428375244,\n",
              "  0.19861054420471191)}"
            ]
          },
          "metadata": {},
          "execution_count": 12
        }
      ]
    },
    {
      "cell_type": "code",
      "source": [
        "# Definicja i walidacja krzyżowa algorytmu KNNWithMeans\n",
        "algo_knn_means = KNNWithMeans()\n",
        "cross_validate(algo_knn_means, data, measures=['RMSE', 'MAE'], cv=5, verbose=True)"
      ],
      "metadata": {
        "colab": {
          "base_uri": "https://localhost:8080/"
        },
        "id": "ftHHCxfP38_a",
        "outputId": "b4066098-d49e-4bbc-8d8c-535e952448c7"
      },
      "execution_count": 13,
      "outputs": [
        {
          "output_type": "stream",
          "name": "stdout",
          "text": [
            "Computing the msd similarity matrix...\n",
            "Done computing similarity matrix.\n",
            "Computing the msd similarity matrix...\n",
            "Done computing similarity matrix.\n",
            "Computing the msd similarity matrix...\n",
            "Done computing similarity matrix.\n",
            "Computing the msd similarity matrix...\n",
            "Done computing similarity matrix.\n",
            "Computing the msd similarity matrix...\n",
            "Done computing similarity matrix.\n",
            "Evaluating RMSE, MAE of algorithm KNNWithMeans on 5 split(s).\n",
            "\n",
            "                  Fold 1  Fold 2  Fold 3  Fold 4  Fold 5  Mean    Std     \n",
            "RMSE (testset)    0.9002  0.8913  0.9022  0.8928  0.9053  0.8984  0.0055  \n",
            "MAE (testset)     0.6862  0.6801  0.6874  0.6830  0.6935  0.6860  0.0045  \n",
            "Fit time          0.21    0.20    0.45    0.59    0.75    0.44    0.21    \n",
            "Test time         2.65    3.76    3.48    6.29    3.87    4.01    1.22    \n"
          ]
        },
        {
          "output_type": "execute_result",
          "data": {
            "text/plain": [
              "{'test_rmse': array([0.90016243, 0.89126169, 0.90223946, 0.89275486, 0.90534508]),\n",
              " 'test_mae': array([0.68619489, 0.68011112, 0.68740691, 0.68296728, 0.69348352]),\n",
              " 'fit_time': (0.20653843879699707,\n",
              "  0.2040865421295166,\n",
              "  0.4476332664489746,\n",
              "  0.5904552936553955,\n",
              "  0.7470090389251709),\n",
              " 'test_time': (2.6461994647979736,\n",
              "  3.763934850692749,\n",
              "  3.479910373687744,\n",
              "  6.2860236167907715,\n",
              "  3.8733479976654053)}"
            ]
          },
          "metadata": {},
          "execution_count": 13
        }
      ]
    },
    {
      "cell_type": "code",
      "source": [
        "# Użycie GridSearchCV do hiperparametryzacji KNNWithMeans\n",
        "param_grid = {'k': [2, 3, 4, 5, 6]}\n",
        "gs = GridSearchCV(KNNWithMeans, param_grid, measures=['RMSE', 'MAE'], cv=5)\n",
        "gs.fit(data)"
      ],
      "metadata": {
        "colab": {
          "base_uri": "https://localhost:8080/"
        },
        "id": "a3Ptac4A4EzU",
        "outputId": "fff6a837-c52a-44f1-f42e-8705ae8e35b7"
      },
      "execution_count": 14,
      "outputs": [
        {
          "output_type": "stream",
          "name": "stdout",
          "text": [
            "Computing the msd similarity matrix...\n",
            "Done computing similarity matrix.\n",
            "Computing the msd similarity matrix...\n",
            "Done computing similarity matrix.\n",
            "Computing the msd similarity matrix...\n",
            "Done computing similarity matrix.\n",
            "Computing the msd similarity matrix...\n",
            "Done computing similarity matrix.\n",
            "Computing the msd similarity matrix...\n",
            "Done computing similarity matrix.\n",
            "Computing the msd similarity matrix...\n",
            "Done computing similarity matrix.\n",
            "Computing the msd similarity matrix...\n",
            "Done computing similarity matrix.\n",
            "Computing the msd similarity matrix...\n",
            "Done computing similarity matrix.\n",
            "Computing the msd similarity matrix...\n",
            "Done computing similarity matrix.\n",
            "Computing the msd similarity matrix...\n",
            "Done computing similarity matrix.\n",
            "Computing the msd similarity matrix...\n",
            "Done computing similarity matrix.\n",
            "Computing the msd similarity matrix...\n",
            "Done computing similarity matrix.\n",
            "Computing the msd similarity matrix...\n",
            "Done computing similarity matrix.\n",
            "Computing the msd similarity matrix...\n",
            "Done computing similarity matrix.\n",
            "Computing the msd similarity matrix...\n",
            "Done computing similarity matrix.\n",
            "Computing the msd similarity matrix...\n",
            "Done computing similarity matrix.\n",
            "Computing the msd similarity matrix...\n",
            "Done computing similarity matrix.\n",
            "Computing the msd similarity matrix...\n",
            "Done computing similarity matrix.\n",
            "Computing the msd similarity matrix...\n",
            "Done computing similarity matrix.\n",
            "Computing the msd similarity matrix...\n",
            "Done computing similarity matrix.\n",
            "Computing the msd similarity matrix...\n",
            "Done computing similarity matrix.\n",
            "Computing the msd similarity matrix...\n",
            "Done computing similarity matrix.\n",
            "Computing the msd similarity matrix...\n",
            "Done computing similarity matrix.\n",
            "Computing the msd similarity matrix...\n",
            "Done computing similarity matrix.\n",
            "Computing the msd similarity matrix...\n",
            "Done computing similarity matrix.\n"
          ]
        }
      ]
    },
    {
      "cell_type": "code",
      "source": [
        "# Najlepsze parametry i wyniki\n",
        "print(f\"Najlepsze parametry: {gs.best_params['rmse']}\")\n",
        "print(f\"Najlepszy RMSE: {gs.best_score['rmse']}\")"
      ],
      "metadata": {
        "colab": {
          "base_uri": "https://localhost:8080/"
        },
        "id": "vmI0qCii4JMj",
        "outputId": "b650c372-598c-4d7c-886a-11934508d3df"
      },
      "execution_count": 15,
      "outputs": [
        {
          "output_type": "stream",
          "name": "stdout",
          "text": [
            "Najlepsze parametry: {'k': 6}\n",
            "Najlepszy RMSE: 0.9216264930692188\n"
          ]
        }
      ]
    },
    {
      "cell_type": "code",
      "source": [
        "# Najlepszy estimator dla RMSE\n",
        "best_knn_means = gs.best_estimator['rmse']\n",
        "cross_validate(best_knn_means, data, measures=['RMSE', 'MAE'], cv=5, verbose=True)"
      ],
      "metadata": {
        "colab": {
          "base_uri": "https://localhost:8080/"
        },
        "id": "OWSh-zdD4cQb",
        "outputId": "bb9379f1-deb0-4076-cad0-ad56c7fcbb81"
      },
      "execution_count": 16,
      "outputs": [
        {
          "output_type": "stream",
          "name": "stdout",
          "text": [
            "Computing the msd similarity matrix...\n",
            "Done computing similarity matrix.\n",
            "Computing the msd similarity matrix...\n",
            "Done computing similarity matrix.\n",
            "Computing the msd similarity matrix...\n",
            "Done computing similarity matrix.\n",
            "Computing the msd similarity matrix...\n",
            "Done computing similarity matrix.\n",
            "Computing the msd similarity matrix...\n",
            "Done computing similarity matrix.\n",
            "Evaluating RMSE, MAE of algorithm KNNWithMeans on 5 split(s).\n",
            "\n",
            "                  Fold 1  Fold 2  Fold 3  Fold 4  Fold 5  Mean    Std     \n",
            "RMSE (testset)    0.9263  0.9199  0.9213  0.9214  0.9232  0.9224  0.0022  \n",
            "MAE (testset)     0.7112  0.7066  0.7076  0.7085  0.7112  0.7090  0.0019  \n",
            "Fit time          0.23    0.27    0.26    0.25    0.27    0.25    0.02    \n",
            "Test time         2.52    1.30    1.48    1.47    1.96    1.75    0.45    \n"
          ]
        },
        {
          "output_type": "execute_result",
          "data": {
            "text/plain": [
              "{'test_rmse': array([0.92630042, 0.91989023, 0.92129634, 0.92143013, 0.92322463]),\n",
              " 'test_mae': array([0.71122952, 0.70658384, 0.70757684, 0.7085238 , 0.7111965 ]),\n",
              " 'fit_time': (0.22823405265808105,\n",
              "  0.2741274833679199,\n",
              "  0.2550332546234131,\n",
              "  0.2501809597015381,\n",
              "  0.2653801441192627),\n",
              " 'test_time': (2.524986743927002,\n",
              "  1.2951159477233887,\n",
              "  1.483670949935913,\n",
              "  1.467085361480713,\n",
              "  1.9594612121582031)}"
            ]
          },
          "metadata": {},
          "execution_count": 16
        }
      ]
    },
    {
      "cell_type": "markdown",
      "source": [
        "## Standardowy algorytm kNN (k-Nearest Neighbors) w kontekście systemów rekomendacyjnych wybiera k najbardziej podobnych użytkowników lub elementów do danego użytkownika lub elementu i na tej podstawie dokonuje predykcji oceny. Predykcje są zwykle średnią oceną danych k sąsiadów.\n",
        "\n",
        "## Za to algorytm kNN with Means rozwija ten pomysł poprzez uwzględnienie średniej oceny danego użytkownika (lub elementu) przy obliczaniu predykcji. Innymi słowy, kNN with Means dostosowuje oceny o średnią ocenę użytkownika (w przypadku rekomendacji użytkownik-bazowych) lub o średnią ocenę elementu (w przypadku rekomendacji opartych na elementach) przed obliczeniem predykcji.\n",
        "\n",
        "## Dzięki temu, nawet jeśli użytkownik jest skłonny oceniać wszystko wysoko lub nisko, jego indywidualne tendencje oceniania są wyrównane, co pozwala na bardziej trafne rekomendacje."
      ],
      "metadata": {
        "id": "x2TQ9WcnGKIG"
      }
    },
    {
      "cell_type": "code",
      "source": [
        "import pandas as pd\n",
        "from surprise import Reader, Dataset\n",
        "from surprise import KNNWithMeans\n",
        "from surprise.model_selection import train_test_split\n",
        "\n",
        "# Wczytanie danych\n",
        "ratings = pd.read_csv('https://s3-us-west-2.amazonaws.com/recommender-tutorial/ratings.csv')\n",
        "movies = pd.read_csv('https://s3-us-west-2.amazonaws.com/recommender-tutorial/movies.csv')\n",
        "\n",
        "# Przygotowanie danych do Surprise\n",
        "reader = Reader(rating_scale=(ratings['rating'].min(), ratings['rating'].max()))\n",
        "data = Dataset.load_from_df(ratings[['userId', 'movieId', 'rating']], reader)"
      ],
      "metadata": {
        "id": "zu6Aj_MD41gh"
      },
      "execution_count": 17,
      "outputs": []
    },
    {
      "cell_type": "code",
      "source": [
        "# Tworzenie zbioru treningowego\n",
        "trainset = data.build_full_trainset()\n",
        "\n",
        "# Model\n",
        "algo_knn_means = KNNWithMeans(k=5)  # Wybór liczby sąsiadów\n",
        "algo_knn_means.fit(trainset)"
      ],
      "metadata": {
        "colab": {
          "base_uri": "https://localhost:8080/"
        },
        "id": "nPichGWl4_AS",
        "outputId": "8a908f7d-4399-4501-b7f2-2f6edb9a5341"
      },
      "execution_count": 18,
      "outputs": [
        {
          "output_type": "stream",
          "name": "stdout",
          "text": [
            "Computing the msd similarity matrix...\n",
            "Done computing similarity matrix.\n"
          ]
        },
        {
          "output_type": "execute_result",
          "data": {
            "text/plain": [
              "<surprise.prediction_algorithms.knns.KNNWithMeans at 0x7c263830c9a0>"
            ]
          },
          "metadata": {},
          "execution_count": 18
        }
      ]
    },
    {
      "cell_type": "code",
      "source": [
        "# Wyszukiwanie ID filmów\n",
        "jumanji_id = movies[movies['title'].str.contains('Jumanji', case=False, regex=False)]['movieId'].iloc[0]\n",
        "flint_id = movies[movies['title'].str.contains('Flint', case=False, regex=False)]['movieId'].iloc[0]"
      ],
      "metadata": {
        "id": "_ds6aU4s5Bih"
      },
      "execution_count": 19,
      "outputs": []
    },
    {
      "cell_type": "code",
      "source": [
        "# Funkcja pomocnicza do rekomendacji filmów\n",
        "def get_recommendations(movie_id, algo, n=10):\n",
        "    inner_id = algo.trainset.to_inner_iid(movie_id)\n",
        "    neighbors = algo.get_neighbors(inner_id, k=n)\n",
        "    neighbor_movie_ids = [algo.trainset.to_raw_iid(inner_n) for inner_n in neighbors]\n",
        "    return movies[movies['movieId'].isin(neighbor_movie_ids)]\n"
      ],
      "metadata": {
        "id": "YJORzyW55Df1"
      },
      "execution_count": 20,
      "outputs": []
    },
    {
      "cell_type": "code",
      "source": [
        "# Rekomendacje dla filmu Jumanji\n",
        "print(\"Rekomendacje dla filmu 'Jumanji':\")\n",
        "jumanji_recs = get_recommendations(jumanji_id, algo_knn_means)\n",
        "print(jumanji_recs[['movieId', 'title']])"
      ],
      "metadata": {
        "colab": {
          "base_uri": "https://localhost:8080/"
        },
        "id": "PGZNp03o5FEl",
        "outputId": "d7236f56-61f4-403b-c9e5-97e7c938aa8b"
      },
      "execution_count": 21,
      "outputs": [
        {
          "output_type": "stream",
          "name": "stdout",
          "text": [
            "Rekomendacje dla filmu 'Jumanji':\n",
            "      movieId                                title\n",
            "512       595          Beauty and the Beast (1991)\n",
            "514       597                  Pretty Woman (1990)\n",
            "734       954  Mr. Smith Goes to Washington (1939)\n",
            "964      1265                 Groundhog Day (1993)\n",
            "1640     2186          Strangers on a Train (1951)\n",
            "1791     2390                  Little Voice (1998)\n",
            "1866     2478                ¡Three Amigos! (1986)\n",
            "3173     4273                Under the Sand (2000)\n",
            "7010    68157          Inglourious Basterds (2009)\n",
            "7185    72378                          2012 (2009)\n"
          ]
        }
      ]
    },
    {
      "cell_type": "code",
      "source": [
        "# Sprawdzenie czy film 'Flint' istnieje w zbiorze danych\n",
        "if 'Flint' in movies['title'].values:\n",
        "    flint_id = movies[movies['title'].str.contains('Flint', case=False, regex=False)]['movieId'].iloc[0]\n",
        "    try:\n",
        "        # Rekomendacje dla filmu Flint\n",
        "        print(\"\\nRekomendacje dla filmu 'Flint':\")\n",
        "        flint_recs = get_recommendations(flint_id, algo_knn_means)\n",
        "        print(flint_recs[['movieId', 'title']])\n",
        "    except Exception as e:\n",
        "        print(f\"Błąd: {e}\")\n",
        "else:\n",
        "    print(\"Film 'Flint' nie został znaleziony w zbiorze danych.\")"
      ],
      "metadata": {
        "colab": {
          "base_uri": "https://localhost:8080/"
        },
        "id": "ol6D144VDj9j",
        "outputId": "b6918899-6eea-4023-8447-9735ace6f3df"
      },
      "execution_count": 22,
      "outputs": [
        {
          "output_type": "stream",
          "name": "stdout",
          "text": [
            "Film 'Flint' nie został znaleziony w zbiorze danych.\n"
          ]
        }
      ]
    }
  ]
}