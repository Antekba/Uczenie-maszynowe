{
  "nbformat": 4,
  "nbformat_minor": 0,
  "metadata": {
    "colab": {
      "provenance": [],
      "authorship_tag": "ABX9TyN6zMdn5+KRs0Sk1n7nbpwj",
      "include_colab_link": true
    },
    "kernelspec": {
      "name": "python3",
      "display_name": "Python 3"
    },
    "language_info": {
      "name": "python"
    }
  },
  "cells": [
    {
      "cell_type": "markdown",
      "metadata": {
        "id": "view-in-github",
        "colab_type": "text"
      },
      "source": [
        "<a href=\"https://colab.research.google.com/github/Antekba/Uczenie-maszynowe/blob/main/Zadanie_2_Antoni_Baran.ipynb\" target=\"_parent\"><img src=\"https://colab.research.google.com/assets/colab-badge.svg\" alt=\"Open In Colab\"/></a>"
      ]
    },
    {
      "cell_type": "code",
      "execution_count": 1,
      "metadata": {
        "id": "izQV1_fws3wA"
      },
      "outputs": [],
      "source": [
        "import numpy as np\n",
        "import pandas as pd\n",
        "import matplotlib.pyplot as plt\n",
        "import seaborn as sns"
      ]
    },
    {
      "cell_type": "code",
      "source": [
        "\n",
        "ratings = pd.read_csv('https://s3-us-west-2.amazonaws.com/recommender-tutorial/ratings.csv')\n",
        "movies = pd.read_csv('https://s3-us-west-2.amazonaws.com/recommender-tutorial/movies.csv')"
      ],
      "metadata": {
        "id": "g3VVI55ds7Yr"
      },
      "execution_count": 2,
      "outputs": []
    },
    {
      "cell_type": "code",
      "source": [
        "# Liczba filmów Sci-Fi\n",
        "movies['genres'] = movies['genres'].astype(str)  # Upewnienie się, że gatunki są typu string\n",
        "sci_fi_movies = movies[movies['genres'].str.contains('Sci-Fi')]\n",
        "print(f\"Liczba filmów Sci-Fi: {len(sci_fi_movies)}\")"
      ],
      "metadata": {
        "colab": {
          "base_uri": "https://localhost:8080/"
        },
        "id": "Rc0IVA2fs9Mn",
        "outputId": "c3779b46-1b1f-4a6f-9a12-d1a1a1491d28"
      },
      "execution_count": 3,
      "outputs": [
        {
          "output_type": "stream",
          "name": "stdout",
          "text": [
            "Liczba filmów Sci-Fi: 980\n"
          ]
        }
      ]
    },
    {
      "cell_type": "code",
      "source": [
        "# Rozkład ocen komedii\n",
        "comedy_movies = movies[movies['genres'].str.contains('Comedy')]\n",
        "comedy_ratings = ratings[ratings['movieId'].isin(comedy_movies['movieId'])]\n",
        "sns.countplot(x='rating', data=comedy_ratings, palette='viridis')\n",
        "plt.title('Rozkład ocen komedii', fontsize=14)\n",
        "plt.show()\n"
      ],
      "metadata": {
        "colab": {
          "base_uri": "https://localhost:8080/",
          "height": 562
        },
        "id": "plr2lwn8s_z1",
        "outputId": "8aafa5d5-dea9-4441-ebff-daaa3557976f"
      },
      "execution_count": 4,
      "outputs": [
        {
          "output_type": "stream",
          "name": "stderr",
          "text": [
            "<ipython-input-4-96a4e83de8c1>:4: FutureWarning: \n",
            "\n",
            "Passing `palette` without assigning `hue` is deprecated and will be removed in v0.14.0. Assign the `x` variable to `hue` and set `legend=False` for the same effect.\n",
            "\n",
            "  sns.countplot(x='rating', data=comedy_ratings, palette='viridis')\n"
          ]
        },
        {
          "output_type": "display_data",
          "data": {
            "text/plain": [
              "<Figure size 640x480 with 1 Axes>"
            ],
            "image/png": "[encoded data removed]"
          },
          "metadata": {}
        }
      ]
    },
    {
      "cell_type": "code",
      "source": [
        "# Średnia ocena wszystkich filmów akcji\n",
        "action_movies = movies[movies['genres'].str.contains('Action')]\n",
        "action_ratings = ratings[ratings['movieId'].isin(action_movies['movieId'])]\n",
        "action_ratings_mean = action_ratings.groupby('movieId')['rating'].mean()\n",
        "print(f\"Średnia ocen wszystkich filmów akcji: {action_ratings_mean.mean()}\")"
      ],
      "metadata": {
        "colab": {
          "base_uri": "https://localhost:8080/"
        },
        "id": "DxqNg9IBtB4c",
        "outputId": "3a07ab0c-b2e5-4b04-fc5d-450b0f1e39b4"
      },
      "execution_count": 5,
      "outputs": [
        {
          "output_type": "stream",
          "name": "stdout",
          "text": [
            "Średnia ocen wszystkich filmów akcji: 3.094498449195514\n"
          ]
        }
      ]
    },
    {
      "cell_type": "code",
      "source": [
        "# Najwyżej oceniane filmy akcji\n",
        "top_rated_action_movies = action_ratings_mean.sort_values(ascending=False).head(3)\n",
        "top_rated_action_movie_details = movies[movies['movieId'].isin(top_rated_action_movies.index)]\n",
        "for index, row in top_rated_action_movie_details.iterrows():\n",
        "    print(f\"{row['title']} - Średnia ocena: {top_rated_action_movies.loc[row['movieId']]:.2f}\")"
      ],
      "metadata": {
        "colab": {
          "base_uri": "https://localhost:8080/"
        },
        "id": "hpXnOKR7tFCT",
        "outputId": "ea66e05f-2c43-4d0f-8043-e0a5cf32ae77"
      },
      "execution_count": 6,
      "outputs": [
        {
          "output_type": "stream",
          "name": "stdout",
          "text": [
            "Love Exposure (Ai No Mukidashi) (2008) - Średnia ocena: 5.00\n",
            "Crippled Avengers (Can que) (Return of the 5 Deadly Venoms) (1981) - Średnia ocena: 5.00\n",
            "Tokyo Tribe (2014) - Średnia ocena: 5.00\n"
          ]
        }
      ]
    },
    {
      "cell_type": "code",
      "source": [
        "!pip install surprise\n",
        "import pandas as pd\n",
        "from surprise import Reader, Dataset\n",
        "from surprise import SVD, KNNWithMeans\n",
        "from surprise.model_selection import GridSearchCV, cross_validate\n"
      ],
      "metadata": {
        "colab": {
          "base_uri": "https://localhost:8080/"
        },
        "id": "Kp-Kte-AtG3o",
        "outputId": "acb0d118-1409-42f4-9024-d56696770de0"
      },
      "execution_count": 7,
      "outputs": [
        {
          "output_type": "stream",
          "name": "stdout",
          "text": [
            "Collecting surprise\n",
            "  Downloading surprise-0.1-py2.py3-none-any.whl (1.8 kB)\n",
            "Collecting scikit-surprise (from surprise)\n",
            "  Downloading scikit-surprise-1.1.3.tar.gz (771 kB)\n",
            "\u001b[2K     \u001b[90m━━━━━━━━━━━━━━━━━━━━━━━━━━━━━━━━━━━━━━━━\u001b[0m \u001b[32m772.0/772.0 kB\u001b[0m \u001b[31m5.5 MB/s\u001b[0m eta \u001b[36m0:00:00\u001b[0m\n",
            "\u001b[?25h  Preparing metadata (setup.py) ... \u001b[?25l\u001b[?25hdone\n",
            "Requirement already satisfied: joblib>=1.0.0 in /usr/local/lib/python3.10/dist-packages (from scikit-surprise->surprise) (1.4.0)\n",
            "Requirement already satisfied: numpy>=1.17.3 in /usr/local/lib/python3.10/dist-packages (from scikit-surprise->surprise) (1.25.2)\n",
            "Requirement already satisfied: scipy>=1.3.2 in /usr/local/lib/python3.10/dist-packages (from scikit-surprise->surprise) (1.11.4)\n",
            "Building wheels for collected packages: scikit-surprise\n",
            "  Building wheel for scikit-surprise (setup.py) ... \u001b[?25l\u001b[?25hdone\n",
            "  Created wheel for scikit-surprise: filename=scikit_surprise-1.1.3-cp310-cp310-linux_x86_64.whl size=3163000 sha256=ddaae07771ff60eacc5544efd0cde6e79924470f42150dbb8abd025b77601151\n",
            "  Stored in directory: /root/.cache/pip/wheels/a5/ca/a8/4e28def53797fdc4363ca4af740db15a9c2f1595ebc51fb445\n",
            "Successfully built scikit-surprise\n",
            "Installing collected packages: scikit-surprise, surprise\n",
            "Successfully installed scikit-surprise-1.1.3 surprise-0.1\n"
          ]
        }
      ]
    },
    {
      "cell_type": "code",
      "source": [
        "# Wczytanie danych\n",
        "ratings = pd.read_csv('https://s3-us-west-2.amazonaws.com/recommender-tutorial/ratings.csv')\n",
        "movies = pd.read_csv('https://s3-us-west-2.amazonaws.com/recommender-tutorial/movies.csv')\n",
        "\n",
        "# Konfiguracja Readera dla Surprise\n",
        "reader = Reader(rating_scale=(0.5, 5))\n",
        "data = Dataset.load_from_df(ratings[['userId', 'movieId', 'rating']], reader)"
      ],
      "metadata": {
        "id": "--JD2DfYyHJo"
      },
      "execution_count": 17,
      "outputs": []
    },
    {
      "cell_type": "code",
      "source": [
        "# Ustawienie parametrów dla algorytmu KNNWithMeans przy użyciu GridSearchCV\n",
        "param_grid_knn = {\n",
        "    'k': [2, 3, 4, 5, 6],\n",
        "    'sim_options': {\n",
        "        'name': ['pearson_baseline'],\n",
        "        'user_based': [False]\n",
        "    }\n",
        "}\n",
        "gs_knn = GridSearchCV(KNNWithMeans, param_grid_knn, measures=['rmse', 'mae'], cv=3)\n",
        "gs_knn.fit(data)\n",
        "print(\"Najlepsze parametry dla KNNWithMeans:\", gs_knn.best_params['rmse'])\n",
        "\n",
        "# Trenowanie i ocena algorytmu SVD\n",
        "algo_svd = SVD()\n",
        "cross_validate(algo_svd, data, measures=['rmse', 'mae'], cv=3, verbose=True)"
      ],
      "metadata": {
        "colab": {
          "base_uri": "https://localhost:8080/"
        },
        "id": "VWKP2G0oyJot",
        "outputId": "3f32fe5d-aa16-456c-c9b1-1c84bbf5acc2"
      },
      "execution_count": 18,
      "outputs": [
        {
          "output_type": "stream",
          "name": "stdout",
          "text": [
            "Estimating biases using als...\n",
            "Computing the pearson_baseline similarity matrix...\n",
            "Done computing similarity matrix.\n",
            "Estimating biases using als...\n",
            "Computing the pearson_baseline similarity matrix...\n",
            "Done computing similarity matrix.\n",
            "Estimating biases using als...\n",
            "Computing the pearson_baseline similarity matrix...\n",
            "Done computing similarity matrix.\n",
            "Estimating biases using als...\n",
            "Computing the pearson_baseline similarity matrix...\n",
            "Done computing similarity matrix.\n",
            "Estimating biases using als...\n",
            "Computing the pearson_baseline similarity matrix...\n",
            "Done computing similarity matrix.\n",
            "Estimating biases using als...\n",
            "Computing the pearson_baseline similarity matrix...\n",
            "Done computing similarity matrix.\n",
            "Estimating biases using als...\n",
            "Computing the pearson_baseline similarity matrix...\n",
            "Done computing similarity matrix.\n",
            "Estimating biases using als...\n",
            "Computing the pearson_baseline similarity matrix...\n",
            "Done computing similarity matrix.\n",
            "Estimating biases using als...\n",
            "Computing the pearson_baseline similarity matrix...\n",
            "Done computing similarity matrix.\n",
            "Estimating biases using als...\n",
            "Computing the pearson_baseline similarity matrix...\n",
            "Done computing similarity matrix.\n",
            "Estimating biases using als...\n",
            "Computing the pearson_baseline similarity matrix...\n",
            "Done computing similarity matrix.\n",
            "Estimating biases using als...\n",
            "Computing the pearson_baseline similarity matrix...\n",
            "Done computing similarity matrix.\n",
            "Estimating biases using als...\n",
            "Computing the pearson_baseline similarity matrix...\n",
            "Done computing similarity matrix.\n",
            "Estimating biases using als...\n",
            "Computing the pearson_baseline similarity matrix...\n",
            "Done computing similarity matrix.\n",
            "Estimating biases using als...\n",
            "Computing the pearson_baseline similarity matrix...\n",
            "Done computing similarity matrix.\n",
            "Najlepsze parametry dla KNNWithMeans: {'k': 6, 'sim_options': {'name': 'pearson_baseline', 'user_based': False}}\n",
            "Evaluating RMSE, MAE of algorithm SVD on 3 split(s).\n",
            "\n",
            "                  Fold 1  Fold 2  Fold 3  Mean    Std     \n",
            "RMSE (testset)    0.8808  0.8765  0.8862  0.8811  0.0040  \n",
            "MAE (testset)     0.6779  0.6754  0.6803  0.6779  0.0020  \n",
            "Fit time          1.36    1.42    1.54    1.44    0.07    \n",
            "Test time         0.46    0.22    0.21    0.30    0.11    \n"
          ]
        },
        {
          "output_type": "execute_result",
          "data": {
            "text/plain": [
              "{'test_rmse': array([0.8807529 , 0.87648106, 0.88617094]),\n",
              " 'test_mae': array([0.67793891, 0.67537005, 0.6803369 ]),\n",
              " 'fit_time': (1.3629779815673828, 1.4178681373596191, 1.5376591682434082),\n",
              " 'test_time': (0.4552574157714844, 0.2224283218383789, 0.21387600898742676)}"
            ]
          },
          "metadata": {},
          "execution_count": 18
        }
      ]
    },
    {
      "cell_type": "code",
      "source": [
        "def recommend_movies(algo, trainset, movie_id, k=10):\n",
        "    # Konwersja zewnętrznego ID na wewnętrzne ID\n",
        "    movie_inner_id = trainset.to_inner_iid(movie_id)\n",
        "    # Wyszukiwanie sąsiadów\n",
        "    neighbors = algo.get_neighbors(movie_inner_id, k)\n",
        "    print(\"Rekomendacje dla filmu ID {}:\".format(movie_id))\n",
        "    for neighbor_id in neighbors:\n",
        "        neighbor_movie_id = trainset.to_raw_iid(neighbor_id)\n",
        "        movie_title = movies.loc[movies['movieId'] == neighbor_movie_id, 'title'].values[0]\n",
        "        print(movie_title)\n",
        "\n"
      ],
      "metadata": {
        "id": "ntwHN2JpyML5"
      },
      "execution_count": 23,
      "outputs": []
    },
    {
      "cell_type": "code",
      "source": [
        "# Przykładowe użycie:\n",
        "jumanji_id = get_movie_id('Jumanji')\n",
        "if jumanji_id:\n",
        "    print(\"Rekomendacje dla 'Jumanji':\")\n",
        "    # Budowa zbioru treningowego\n",
        "    trainset = data.build_full_trainset()\n",
        "    # Pobranie najlepszego estimatora z GridSearchCV\n",
        "    best_knn = gs_knn.best_estimator['rmse']\n",
        "    # Wytrenowanie najlepszego estimatora na pełnym zbiorze treningowym\n",
        "    best_knn.fit(trainset)\n",
        "    # Generowanie rekomendacji\n",
        "    recommend_movies(best_knn, trainset, jumanji_id, k=10)"
      ],
      "metadata": {
        "colab": {
          "base_uri": "https://localhost:8080/"
        },
        "id": "slbU4TUQ03H0",
        "outputId": "4d1a9fb1-a57e-4280-bc2f-485bcde856f7"
      },
      "execution_count": 24,
      "outputs": [
        {
          "output_type": "stream",
          "name": "stdout",
          "text": [
            "Rekomendacje dla 'Jumanji':\n",
            "Estimating biases using als...\n",
            "Computing the pearson_baseline similarity matrix...\n",
            "Done computing similarity matrix.\n",
            "Rekomendacje dla filmu ID 2:\n",
            "Mrs. Doubtfire (1993)\n",
            "Mask, The (1994)\n",
            "Back to the Future (1985)\n",
            "Liar Liar (1997)\n",
            "True Lies (1994)\n",
            "Casper (1995)\n",
            "Back to the Future Part III (1990)\n",
            "Santa Clause, The (1994)\n",
            "Prestige, The (2006)\n",
            "Babe (1995)\n"
          ]
        }
      ]
    },
    {
      "cell_type": "code",
      "source": [
        "flint_id = get_movie_id('Flint')\n",
        "if flint_id:\n",
        "    print(\"Rekomendacje dla 'Flint':\")\n",
        "    # Ponieważ model był już wytrenowany powyżej dla 'Jumanji', możemy użyć tego samego obiektu `best_knn`\n",
        "    # Jednak dla jasności, ponownie trenujemy model na pełnym zbiorze treningowym\n",
        "    trainset = data.build_full_trainset()\n",
        "    best_knn.fit(trainset)  # Ponowne wytrenowanie na pełnym zbiorze, jeśli nie zostało to zrobione wcześniej\n",
        "    recommend_movies(best_knn, trainset, flint_id, k=10)\n",
        "else:\n",
        "    print(\"Film 'Flint' nie został znaleziony w zbiorze danych.\")"
      ],
      "metadata": {
        "colab": {
          "base_uri": "https://localhost:8080/"
        },
        "id": "jRI2r_6x1AyB",
        "outputId": "5130bb37-8bac-4021-9e25-e436bb335216"
      },
      "execution_count": 25,
      "outputs": [
        {
          "output_type": "stream",
          "name": "stdout",
          "text": [
            "Rekomendacje dla 'Flint':\n",
            "Estimating biases using als...\n",
            "Computing the pearson_baseline similarity matrix...\n",
            "Done computing similarity matrix.\n",
            "Rekomendacje dla filmu ID 355:\n",
            "Casper (1995)\n",
            "Congo (1995)\n",
            "Brady Bunch Movie, The (1995)\n",
            "Client, The (1994)\n",
            "Mask, The (1994)\n",
            "Liar Liar (1997)\n",
            "Harry Potter and the Chamber of Secrets (2002)\n",
            "Hunchback of Notre Dame, The (1996)\n",
            "First Knight (1995)\n",
            "Richie Rich (1994)\n"
          ]
        }
      ]
    }
  ]
}