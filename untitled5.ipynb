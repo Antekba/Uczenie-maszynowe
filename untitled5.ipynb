{
  "nbformat": 4,
  "nbformat_minor": 0,
  "metadata": {
    "colab": {
      "provenance": [],
      "authorship_tag": "ABX9TyM9uQ1VPtZ/ouFxz+d8GZie",
      "include_colab_link": true
    },
    "kernelspec": {
      "name": "python3",
      "display_name": "Python 3"
    },
    "language_info": {
      "name": "python"
    }
  },
  "cells": [
    {
      "cell_type": "markdown",
      "metadata": {
        "id": "view-in-github",
        "colab_type": "text"
      },
      "source": [
        "<a href=\"https://colab.research.google.com/github/Antekba/Uczenie-maszynowe/blob/Case-1/untitled5.ipynb\" target=\"_parent\"><img src=\"https://colab.research.google.com/assets/colab-badge.svg\" alt=\"Open In Colab\"/></a>"
      ]
    },
    {
      "cell_type": "code",
      "execution_count": null,
      "metadata": {
        "id": "VPmv9sNdtiKR"
      },
      "outputs": [],
      "source": [
        "import pandas as pd\n",
        "df = pd.read_csv(\"case1.csv\", sep=\";\", encoding=\"utf-8\")"
      ]
    },
    {
      "cell_type": "code",
      "source": [
        "print(df.head())\n",
        "print(df.info())"
      ],
      "metadata": {
        "colab": {
          "base_uri": "https://localhost:8080/"
        },
        "id": "FZQgr3HquWes",
        "outputId": "e2513cf2-538a-4dcd-dd08-a246bb5b2516"
      },
      "execution_count": null,
      "outputs": [
        {
          "output_type": "stream",
          "name": "stdout",
          "text": [
            "   Unnamed: 0  Index                                     Address  FLAG  \\\n",
            "0           0      1  0x00009277775ac7d0d59eaad8fee3d10ac6c805e8     0   \n",
            "1           1      2  0x0002b44ddb1476db43c868bd494422ee4c136fed     0   \n",
            "2           2      3  0x0002bda54cb772d040f779e88eb453cac0daa244     0   \n",
            "3           3      4  0x00038e6ba2fd5c09aedb96697c8d7b8fa6632e5e     0   \n",
            "4           4      5  0x00062d1dd1afb6fb02540ddad9cdebfe568e0d89     0   \n",
            "\n",
            "   Avg min between sent tnx  Avg min between received tnx  \\\n",
            "0                    844.26                       1093.71   \n",
            "1                  12709.07                       2958.44   \n",
            "2                 246194.54                       2434.02   \n",
            "3                  10219.60                      15785.09   \n",
            "4                     36.61                      10707.77   \n",
            "\n",
            "   Time Diff between first and last (Mins)  Sent tnx  Received Tnx  \\\n",
            "0                                704785.63       721            89   \n",
            "1                               1218216.73        94             8   \n",
            "2                                516729.30         2            10   \n",
            "3                                397555.90        25             9   \n",
            "4                                382472.42      4598            20   \n",
            "\n",
            "   Number of Created Contracts  ...  ERC20 min val sent  ERC20 max val sent  \\\n",
            "0                            0  ...            0.000000        1.683100e+07   \n",
            "1                            0  ...            2.260809        2.260809e+00   \n",
            "2                            0  ...            0.000000        0.000000e+00   \n",
            "3                            0  ...          100.000000        9.029231e+03   \n",
            "4                            1  ...            0.000000        4.500000e+04   \n",
            "\n",
            "   ERC20 avg val sent  ERC20 min val sent contract  \\\n",
            "0       271779.920000                          0.0   \n",
            "1            2.260809                          0.0   \n",
            "2            0.000000                          0.0   \n",
            "3         3804.076893                          0.0   \n",
            "4        13726.659220                          0.0   \n",
            "\n",
            "   ERC20 max val sent contract  ERC20 avg val sent contract  \\\n",
            "0                          0.0                          0.0   \n",
            "1                          0.0                          0.0   \n",
            "2                          0.0                          0.0   \n",
            "3                          0.0                          0.0   \n",
            "4                          0.0                          0.0   \n",
            "\n",
            "   ERC20 uniq sent token name  ERC20 uniq rec token name  \\\n",
            "0                        39.0                       57.0   \n",
            "1                         1.0                        7.0   \n",
            "2                         0.0                        8.0   \n",
            "3                         1.0                       11.0   \n",
            "4                         6.0                       27.0   \n",
            "\n",
            "   ERC20 most sent token type  ERC20_most_rec_token_type  \n",
            "0                   Cofoundit                  Numeraire  \n",
            "1              Livepeer Token             Livepeer Token  \n",
            "2                        None                      XENON  \n",
            "3                      Raiden                      XENON  \n",
            "4               StatusNetwork                        EOS  \n",
            "\n",
            "[5 rows x 51 columns]\n",
            "<class 'pandas.core.frame.DataFrame'>\n",
            "RangeIndex: 9841 entries, 0 to 9840\n",
            "Data columns (total 51 columns):\n",
            " #   Column                                                Non-Null Count  Dtype  \n",
            "---  ------                                                --------------  -----  \n",
            " 0   Unnamed: 0                                            9841 non-null   int64  \n",
            " 1   Index                                                 9841 non-null   int64  \n",
            " 2   Address                                               9841 non-null   object \n",
            " 3   FLAG                                                  9841 non-null   int64  \n",
            " 4   Avg min between sent tnx                              9841 non-null   float64\n",
            " 5   Avg min between received tnx                          9841 non-null   float64\n",
            " 6   Time Diff between first and last (Mins)               9841 non-null   float64\n",
            " 7   Sent tnx                                              9841 non-null   int64  \n",
            " 8   Received Tnx                                          9841 non-null   int64  \n",
            " 9   Number of Created Contracts                           9841 non-null   int64  \n",
            " 10  Unique Received From Addresses                        9841 non-null   int64  \n",
            " 11  Unique Sent To Addresses                              9841 non-null   int64  \n",
            " 12  min value received                                    9841 non-null   float64\n",
            " 13  max value received                                    9841 non-null   float64\n",
            " 14  avg val received                                      9841 non-null   float64\n",
            " 15  min val sent                                          9841 non-null   float64\n",
            " 16  max val sent                                          9841 non-null   float64\n",
            " 17  avg val sent                                          9841 non-null   float64\n",
            " 18  min value sent to contract                            9841 non-null   float64\n",
            " 19  max val sent to contract                              9841 non-null   float64\n",
            " 20  avg value sent to contract                            9841 non-null   float64\n",
            " 21  total transactions (including tnx to create contract  9841 non-null   int64  \n",
            " 22  total Ether sent                                      9841 non-null   float64\n",
            " 23  total ether received                                  9841 non-null   float64\n",
            " 24  total ether sent contracts                            9841 non-null   float64\n",
            " 25  total ether balance                                   9841 non-null   float64\n",
            " 26  Total ERC20 tnxs                                      9012 non-null   float64\n",
            " 27  ERC20 total Ether received                            9012 non-null   float64\n",
            " 28  ERC20 total ether sent                                9012 non-null   float64\n",
            " 29  ERC20 total Ether sent contract                       9012 non-null   float64\n",
            " 30  ERC20 uniq sent addr                                  9012 non-null   float64\n",
            " 31  ERC20 uniq rec addr                                   9012 non-null   float64\n",
            " 32  ERC20 uniq sent addr.1                                9012 non-null   float64\n",
            " 33  ERC20 uniq rec contract addr                          9012 non-null   float64\n",
            " 34  ERC20 avg time between sent tnx                       9012 non-null   float64\n",
            " 35  ERC20 avg time between rec tnx                        9012 non-null   float64\n",
            " 36  ERC20 avg time between rec 2 tnx                      9012 non-null   float64\n",
            " 37  ERC20 avg time between contract tnx                   9012 non-null   float64\n",
            " 38  ERC20 min val rec                                     9012 non-null   float64\n",
            " 39  ERC20 max val rec                                     9012 non-null   float64\n",
            " 40  ERC20 avg val rec                                     9012 non-null   float64\n",
            " 41  ERC20 min val sent                                    9012 non-null   float64\n",
            " 42  ERC20 max val sent                                    9012 non-null   float64\n",
            " 43  ERC20 avg val sent                                    9012 non-null   float64\n",
            " 44  ERC20 min val sent contract                           9012 non-null   float64\n",
            " 45  ERC20 max val sent contract                           9012 non-null   float64\n",
            " 46  ERC20 avg val sent contract                           9012 non-null   float64\n",
            " 47  ERC20 uniq sent token name                            9012 non-null   float64\n",
            " 48  ERC20 uniq rec token name                             9012 non-null   float64\n",
            " 49  ERC20 most sent token type                            9000 non-null   object \n",
            " 50  ERC20_most_rec_token_type                             8990 non-null   object \n",
            "dtypes: float64(39), int64(9), object(3)\n",
            "memory usage: 3.8+ MB\n",
            "None\n"
          ]
        }
      ]
    },
    {
      "cell_type": "code",
      "source": [
        "print(df.isnull().sum())"
      ],
      "metadata": {
        "colab": {
          "base_uri": "https://localhost:8080/"
        },
        "id": "uUM_gMY5uD9a",
        "outputId": "111a2a3c-3351-4e1c-c55e-43d2533a7ed5"
      },
      "execution_count": null,
      "outputs": [
        {
          "output_type": "stream",
          "name": "stdout",
          "text": [
            "Unnamed: 0                                                0\n",
            "Index                                                     0\n",
            "Address                                                   0\n",
            "FLAG                                                      0\n",
            "Avg min between sent tnx                                  0\n",
            "Avg min between received tnx                              0\n",
            "Time Diff between first and last (Mins)                   0\n",
            "Sent tnx                                                  0\n",
            "Received Tnx                                              0\n",
            "Number of Created Contracts                               0\n",
            "Unique Received From Addresses                            0\n",
            "Unique Sent To Addresses                                  0\n",
            "min value received                                        0\n",
            "max value received                                        0\n",
            "avg val received                                          0\n",
            "min val sent                                              0\n",
            "max val sent                                              0\n",
            "avg val sent                                              0\n",
            "min value sent to contract                                0\n",
            "max val sent to contract                                  0\n",
            "avg value sent to contract                                0\n",
            "total transactions (including tnx to create contract      0\n",
            "total Ether sent                                          0\n",
            "total ether received                                      0\n",
            "total ether sent contracts                                0\n",
            "total ether balance                                       0\n",
            "Total ERC20 tnxs                                        829\n",
            "ERC20 total Ether received                              829\n",
            "ERC20 total ether sent                                  829\n",
            "ERC20 total Ether sent contract                         829\n",
            "ERC20 uniq sent addr                                    829\n",
            "ERC20 uniq rec addr                                     829\n",
            "ERC20 uniq sent addr.1                                  829\n",
            "ERC20 uniq rec contract addr                            829\n",
            "ERC20 avg time between sent tnx                         829\n",
            "ERC20 avg time between rec tnx                          829\n",
            "ERC20 avg time between rec 2 tnx                        829\n",
            "ERC20 avg time between contract tnx                     829\n",
            "ERC20 min val rec                                       829\n",
            "ERC20 max val rec                                       829\n",
            "ERC20 avg val rec                                       829\n",
            "ERC20 min val sent                                      829\n",
            "ERC20 max val sent                                      829\n",
            "ERC20 avg val sent                                      829\n",
            "ERC20 min val sent contract                             829\n",
            "ERC20 max val sent contract                             829\n",
            "ERC20 avg val sent contract                             829\n",
            "ERC20 uniq sent token name                              829\n",
            "ERC20 uniq rec token name                               829\n",
            "ERC20 most sent token type                              841\n",
            "ERC20_most_rec_token_type                               851\n",
            "dtype: int64\n"
          ]
        }
      ]
    },
    {
      "cell_type": "code",
      "source": [
        "df = df.drop(['Index', 'Address'], axis=1)"
      ],
      "metadata": {
        "id": "0gNK_JBlufo9"
      },
      "execution_count": null,
      "outputs": []
    },
    {
      "cell_type": "code",
      "source": [
        "from sklearn.preprocessing import StandardScaler\n",
        "\n",
        "# Wybierz tylko kolumny numeryczne (możesz dostosować listę kolumn)\n",
        "numerical_cols = df.select_dtypes(include=['float64', 'int64']).columns\n",
        "\n",
        "scaler = StandardScaler()\n",
        "df[numerical_cols] = scaler.fit_transform(df[numerical_cols])"
      ],
      "metadata": {
        "id": "X5hLPJzLuiTK"
      },
      "execution_count": null,
      "outputs": []
    },
    {
      "cell_type": "code",
      "source": [
        "from sklearn.decomposition import PCA\n",
        "\n",
        "# Przypomnienie: Użyj aktualizowanej listy kolumn numerycznych, z wyłączeniem zmiennej docelowej, jeśli jest numeryczna\n",
        "numerical_cols = df.select_dtypes(include=['float64', 'int64']).columns.difference(['FLAG'])\n",
        "\n",
        "# Wypełnij brakujące wartości\n",
        "for column in numerical_cols:\n",
        "    df[column].fillna(df[column].median(), inplace=True)\n",
        "\n",
        "# Stosuj PCA\n",
        "pca = PCA(n_components=0.95)  # Zachowaj 95% wariancji\n",
        "df_reduced = pca.fit_transform(df[numerical_cols])\n"
      ],
      "metadata": {
        "id": "bQeTbHqcur9l"
      },
      "execution_count": null,
      "outputs": []
    },
    {
      "cell_type": "code",
      "source": [
        "y = df['FLAG'].astype(int)\n"
      ],
      "metadata": {
        "id": "wBdlBE0evNBi"
      },
      "execution_count": null,
      "outputs": []
    },
    {
      "cell_type": "code",
      "source": [
        "from imblearn.over_sampling import SMOTE\n",
        "\n",
        "# Przy założeniu, że `X` jest już zdefiniowane i nie zawiera zmiennej docelowej\n",
        "smote = SMOTE()\n",
        "X_res, y_res = smote.fit_resample(X, y)"
      ],
      "metadata": {
        "id": "1IwUQqduvqtf"
      },
      "execution_count": null,
      "outputs": []
    },
    {
      "cell_type": "code",
      "source": [
        "from sklearn.model_selection import train_test_split\n",
        "\n",
        "X_train, X_test, y_train, y_test = train_test_split(X_res, y_res, test_size=0.2, random_state=42)"
      ],
      "metadata": {
        "id": "9y6k7nASv9rv"
      },
      "execution_count": null,
      "outputs": []
    },
    {
      "cell_type": "code",
      "source": [
        "from sklearn.linear_model import LogisticRegression\n",
        "from sklearn.ensemble import RandomForestClassifier\n",
        "from sklearn.ensemble import GradientBoostingClassifier\n",
        "from sklearn.metrics import accuracy_score, classification_report\n",
        "\n",
        "models = {\n",
        "    \"Logistic Regression\": LogisticRegression(max_iter=1000),\n",
        "    \"Random Forest\": RandomForestClassifier(),\n",
        "    \"Gradient Boosting\": GradientBoostingClassifier()\n",
        "}\n",
        "\n",
        "for name, model in models.items():\n",
        "    model.fit(X_train, y_train)\n",
        "    predictions = model.predict(X_test)\n",
        "    print(f\"{name}:\")\n",
        "    print(f\"Accuracy: {accuracy_score(y_test, predictions)}\")\n",
        "    print(classification_report(y_test, predictions))\n",
        "    print(\"----------\\n\")"
      ],
      "metadata": {
        "colab": {
          "base_uri": "https://localhost:8080/"
        },
        "id": "zWr7CBNCwA_p",
        "outputId": "fe8f62a3-b819-4955-af99-b023b733a21a"
      },
      "execution_count": null,
      "outputs": [
        {
          "output_type": "stream",
          "name": "stdout",
          "text": [
            "Logistic Regression:\n",
            "Accuracy: 0.9905383360522023\n",
            "              precision    recall  f1-score   support\n",
            "\n",
            "           0       1.00      0.98      0.99      1530\n",
            "           1       0.98      1.00      0.99      1535\n",
            "\n",
            "    accuracy                           0.99      3065\n",
            "   macro avg       0.99      0.99      0.99      3065\n",
            "weighted avg       0.99      0.99      0.99      3065\n",
            "\n",
            "----------\n",
            "\n",
            "Random Forest:\n",
            "Accuracy: 0.9960848287112561\n",
            "              precision    recall  f1-score   support\n",
            "\n",
            "           0       1.00      1.00      1.00      1530\n",
            "           1       1.00      1.00      1.00      1535\n",
            "\n",
            "    accuracy                           1.00      3065\n",
            "   macro avg       1.00      1.00      1.00      3065\n",
            "weighted avg       1.00      1.00      1.00      3065\n",
            "\n",
            "----------\n",
            "\n",
            "Gradient Boosting:\n",
            "Accuracy: 0.9944535073409462\n",
            "              precision    recall  f1-score   support\n",
            "\n",
            "           0       1.00      0.99      0.99      1530\n",
            "           1       0.99      1.00      0.99      1535\n",
            "\n",
            "    accuracy                           0.99      3065\n",
            "   macro avg       0.99      0.99      0.99      3065\n",
            "weighted avg       0.99      0.99      0.99      3065\n",
            "\n",
            "----------\n",
            "\n"
          ]
        }
      ]
    }
  ]
}