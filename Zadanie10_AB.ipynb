{
  "nbformat": 4,
  "nbformat_minor": 0,
  "metadata": {
    "colab": {
      "provenance": [],
      "authorship_tag": "ABX9TyPeX54aslymxZMyzSg03ymX",
      "include_colab_link": true
    },
    "kernelspec": {
      "name": "python3",
      "display_name": "Python 3"
    },
    "language_info": {
      "name": "python"
    }
  },
  "cells": [
    {
      "cell_type": "markdown",
      "metadata": {
        "id": "view-in-github",
        "colab_type": "text"
      },
      "source": [
        "<a href=\"https://colab.research.google.com/github/Antekba/Uczenie-maszynowe/blob/main/Zadanie10_AB.ipynb\" target=\"_parent\"><img src=\"https://colab.research.google.com/assets/colab-badge.svg\" alt=\"Open In Colab\"/></a>"
      ]
    },
    {
      "cell_type": "code",
      "execution_count": 8,
      "metadata": {
        "id": "46o5cPxwbKKm"
      },
      "outputs": [],
      "source": [
        "!apt-get install openjdk-8-jdk-headless -qq > /dev/null\n",
        "!wget -q http://www.apache.org/dist/spark/spark-3.5.1/spark-3.5.1-bin-hadoop3.tgz\n",
        "!tar xf spark-3.5.1-bin-hadoop3.tgz\n",
        "!pip install -q findspark==1.3.0"
      ]
    },
    {
      "cell_type": "code",
      "source": [
        "!pip install -q pyspark==3.5.1"
      ],
      "metadata": {
        "id": "_HEclwVgbNXv"
      },
      "execution_count": 9,
      "outputs": []
    },
    {
      "cell_type": "code",
      "source": [
        "import os\n",
        "os.environ[\"JAVA_HOME\"] = \"/usr/lib/jvm/java-8-openjdk-amd64\"\n",
        "os.environ[\"SPARK_HOME\"] = \"/content/spark-3.5.1-bin-hadoop3\""
      ],
      "metadata": {
        "id": "hmpqQt35bPXD"
      },
      "execution_count": 10,
      "outputs": []
    },
    {
      "cell_type": "code",
      "source": [
        "# Importowanie niezbędnych bibliotek\n",
        "import pandas as pd\n",
        "import numpy as np\n",
        "from sklearn.linear_model import LinearRegression\n",
        "from sklearn.model_selection import train_test_split\n",
        "from sklearn.metrics import mean_squared_error, r2_score\n",
        "from datetime import datetime\n",
        "import matplotlib.pyplot as plt"
      ],
      "metadata": {
        "id": "ihVucBqRtpm1"
      },
      "execution_count": 18,
      "outputs": []
    },
    {
      "cell_type": "code",
      "source": [
        "from google.colab import drive\n",
        "drive.mount('/content/drive')"
      ],
      "metadata": {
        "colab": {
          "base_uri": "https://localhost:8080/"
        },
        "id": "npfXCsu5t9j9",
        "outputId": "e1f3e822-03dc-434c-cf3b-cb121f72fbbb"
      },
      "execution_count": 21,
      "outputs": [
        {
          "output_type": "stream",
          "name": "stdout",
          "text": [
            "Mounted at /content/drive\n"
          ]
        }
      ]
    },
    {
      "cell_type": "code",
      "source": [
        "!unzip data.zip"
      ],
      "metadata": {
        "colab": {
          "base_uri": "https://localhost:8080/"
        },
        "id": "mDK6uphXuCfT",
        "outputId": "10a2aa3c-088f-43c1-e0af-73c9ea4da70c"
      },
      "execution_count": 25,
      "outputs": [
        {
          "output_type": "stream",
          "name": "stdout",
          "text": [
            "Archive:  data.zip\n",
            "   creating: data/\n",
            "  inflating: data/.DS_Store          \n",
            "   creating: __MACOSX/\n",
            "   creating: __MACOSX/data/\n",
            "  inflating: __MACOSX/data/._.DS_Store  \n",
            "   creating: data/shot_charts_top_10/\n",
            "   creating: data/shot_charts_top_10/2013/\n",
            "  inflating: data/shot_charts_top_10/2013/nba_savant201933.csv  \n",
            "  inflating: data/shot_charts_top_10/2013/nba_savant2736.csv  \n",
            "  inflating: data/shot_charts_top_10/2013/nba_savant101145.csv  \n",
            "  inflating: data/shot_charts_top_10/2013/nba_savant200746.csv  \n",
            "  inflating: data/shot_charts_top_10/2013/nba_savant200752.csv  \n",
            "  inflating: data/shot_charts_top_10/2013/nba_savant201935.csv  \n",
            "  inflating: data/shot_charts_top_10/2013/nba_savant101135.csv  \n",
            "  inflating: data/shot_charts_top_10/2013/nba_savant202691.csv  \n",
            "  inflating: data/shot_charts_top_10/2013/nba_savant201950.csv  \n",
            "  inflating: data/shot_charts_top_10/2013/nba_savant202323.csv  \n",
            "  inflating: data/shot_charts_top_10/2013/nba_savant201564.csv  \n",
            "  inflating: data/shot_charts_top_10/2013/nba_savant2037.csv  \n",
            "  inflating: data/shot_charts_top_10/2013/nba_savant977.csv  \n",
            "  inflating: data/shot_charts_top_10/2013/nba_savant2744.csv  \n",
            "  inflating: data/shot_charts_top_10/2013/nba_savant2546.csv  \n",
            "  inflating: data/shot_charts_top_10/2013/nba_savant202326.csv  \n",
            "  inflating: data/shot_charts_top_10/2013/nba_savant202681.csv  \n",
            "  inflating: data/shot_charts_top_10/2013/nba_savant2430.csv  \n",
            "  inflating: data/shot_charts_top_10/2013/nba_savant201942.csv  \n",
            "  inflating: data/shot_charts_top_10/2013/nba_savant2544.csv  \n",
            "  inflating: data/shot_charts_top_10/2013/nba_savant2746.csv  \n",
            "  inflating: data/shot_charts_top_10/2013/nba_savant2747.csv  \n",
            "  inflating: data/shot_charts_top_10/2013/nba_savant201566.csv  \n",
            "  inflating: data/shot_charts_top_10/2013/nba_savant201572.csv  \n",
            "  inflating: data/shot_charts_top_10/2013/nba_savant201943.csv  \n",
            "  inflating: data/shot_charts_top_10/2013/nba_savant202331.csv  \n",
            "  inflating: data/shot_charts_top_10/2013/nba_savant202328.csv  \n",
            "  inflating: data/shot_charts_top_10/2013/nba_savant101114.csv  \n",
            "  inflating: data/shot_charts_top_10/2013/nba_savant2548.csv  \n",
            "  inflating: data/shot_charts_top_10/2013/nba_savant2561.csv  \n",
            "  inflating: data/shot_charts_top_10/2013/nba_savant2207.csv  \n",
            "  inflating: data/shot_charts_top_10/2013/nba_savant1718.csv  \n",
            "  inflating: data/shot_charts_top_10/2013/nba_savant201583.csv  \n",
            "  inflating: data/shot_charts_top_10/2013/nba_savant202689.csv  \n",
            "  inflating: data/shot_charts_top_10/2013/nba_savant201142.csv  \n",
            "  inflating: data/shot_charts_top_10/2013/nba_savant2216.csv  \n",
            "  inflating: data/shot_charts_top_10/2013/nba_savant201143.csv  \n",
            "  inflating: data/shot_charts_top_10/2013/nba_savant201939.csv  \n",
            "  inflating: data/shot_charts_top_10/2013/nba_savant203081.csv  \n",
            "  inflating: data/shot_charts_top_10/2013/nba_savant202349.csv  \n",
            "   creating: data/shot_charts_top_10/2014/\n",
            "  inflating: data/shot_charts_top_10/2014/nba_savant200794.csv  \n",
            "  inflating: data/shot_charts_top_10/2014/nba_savant200768.csv  \n",
            "  inflating: data/shot_charts_top_10/2014/nba_savant201933.csv  \n",
            "  inflating: data/shot_charts_top_10/2014/nba_savant203076.csv  \n",
            "  inflating: data/shot_charts_top_10/2014/nba_savant101145.csv  \n",
            "  inflating: data/shot_charts_top_10/2014/nba_savant200746.csv  \n",
            "  inflating: data/shot_charts_top_10/2014/nba_savant200752.csv  \n",
            "  inflating: data/shot_charts_top_10/2014/nba_savant201935.csv  \n",
            "  inflating: data/shot_charts_top_10/2014/nba_savant201952.csv  \n",
            "  inflating: data/shot_charts_top_10/2014/nba_savant201167.csv  \n",
            "  inflating: data/shot_charts_top_10/2014/nba_savant202691.csv  \n",
            "  inflating: data/shot_charts_top_10/2014/nba_savant202322.csv  \n",
            "  inflating: data/shot_charts_top_10/2014/nba_savant202083.csv  \n",
            "  inflating: data/shot_charts_top_10/2014/nba_savant2755.csv  \n",
            "  inflating: data/shot_charts_top_10/2014/nba_savant101123.csv  \n",
            "  inflating: data/shot_charts_top_10/2014/nba_savant202323.csv  \n",
            "  inflating: data/shot_charts_top_10/2014/nba_savant2037.csv  \n",
            "  inflating: data/shot_charts_top_10/2014/nba_savant2744.csv  \n",
            "  inflating: data/shot_charts_top_10/2014/nba_savant2546.csv  \n",
            "  inflating: data/shot_charts_top_10/2014/nba_savant202326.csv  \n",
            "  inflating: data/shot_charts_top_10/2014/nba_savant202681.csv  \n",
            "  inflating: data/shot_charts_top_10/2014/nba_savant202330.csv  \n",
            "  inflating: data/shot_charts_top_10/2014/nba_savant201942.csv  \n",
            "  inflating: data/shot_charts_top_10/2014/nba_savant2544.csv  \n",
            "  inflating: data/shot_charts_top_10/2014/nba_savant1717.csv  \n",
            "  inflating: data/shot_charts_top_10/2014/nba_savant201567.csv  \n",
            "  inflating: data/shot_charts_top_10/2014/nba_savant2746.csv  \n",
            "  inflating: data/shot_charts_top_10/2014/nba_savant201943.csv  \n",
            "  inflating: data/shot_charts_top_10/2014/nba_savant202331.csv  \n",
            "  inflating: data/shot_charts_top_10/2014/nba_savant202328.csv  \n",
            "  inflating: data/shot_charts_top_10/2014/nba_savant201609.csv  \n",
            "  inflating: data/shot_charts_top_10/2014/nba_savant202738.csv  \n",
            "  inflating: data/shot_charts_top_10/2014/nba_savant2207.csv  \n",
            "  inflating: data/shot_charts_top_10/2014/nba_savant201152.csv  \n",
            "  inflating: data/shot_charts_top_10/2014/nba_savant201144.csv  \n",
            "  inflating: data/shot_charts_top_10/2014/nba_savant201145.csv  \n",
            "  inflating: data/shot_charts_top_10/2014/nba_savant202689.csv  \n",
            "  inflating: data/shot_charts_top_10/2014/nba_savant202688.csv  \n",
            "  inflating: data/shot_charts_top_10/2014/nba_savant201142.csv  \n",
            "  inflating: data/shot_charts_top_10/2014/nba_savant2216.csv  \n",
            "  inflating: data/shot_charts_top_10/2014/nba_savant201939.csv  \n",
            "  inflating: data/shot_charts_top_10/2014/nba_savant203487.csv  \n",
            "  inflating: data/shot_charts_top_10/2014/nba_savant203081.csv  \n",
            "  inflating: data/shot_charts_top_10/2014/nba_savant203078.csv  \n",
            "   creating: data/shot_charts_top_10/2015/\n",
            "  inflating: data/shot_charts_top_10/2015/nba_savant203504.csv  \n",
            "  inflating: data/shot_charts_top_10/2015/nba_savant200768.csv  \n",
            "  inflating: data/shot_charts_top_10/2015/nba_savant201933.csv  \n",
            "  inflating: data/shot_charts_top_10/2015/nba_savant202340.csv  \n",
            "  inflating: data/shot_charts_top_10/2015/nba_savant203076.csv  \n",
            "  inflating: data/shot_charts_top_10/2015/nba_savant203506.csv  \n",
            "  inflating: data/shot_charts_top_10/2015/nba_savant201936.csv  \n",
            "  inflating: data/shot_charts_top_10/2015/nba_savant101145.csv  \n",
            "  inflating: data/shot_charts_top_10/2015/nba_savant200746.csv  \n",
            "  inflating: data/shot_charts_top_10/2015/nba_savant200752.csv  \n",
            "  inflating: data/shot_charts_top_10/2015/nba_savant201935.csv  \n",
            "  inflating: data/shot_charts_top_10/2015/nba_savant101108.csv  \n",
            "  inflating: data/shot_charts_top_10/2015/nba_savant202693.csv  \n",
            "  inflating: data/shot_charts_top_10/2015/nba_savant202691.csv  \n",
            "  inflating: data/shot_charts_top_10/2015/nba_savant202322.csv  \n",
            "  inflating: data/shot_charts_top_10/2015/nba_savant2744.csv  \n",
            "  inflating: data/shot_charts_top_10/2015/nba_savant202326.csv  \n",
            "  inflating: data/shot_charts_top_10/2015/nba_savant202681.csv  \n",
            "  inflating: data/shot_charts_top_10/2015/nba_savant202330.csv  \n",
            "  inflating: data/shot_charts_top_10/2015/nba_savant201188.csv  \n",
            "  inflating: data/shot_charts_top_10/2015/nba_savant2544.csv  \n",
            "  inflating: data/shot_charts_top_10/2015/nba_savant1717.csv  \n",
            "  inflating: data/shot_charts_top_10/2015/nba_savant201566.csv  \n",
            "  inflating: data/shot_charts_top_10/2015/nba_savant203952.csv  \n",
            "  inflating: data/shot_charts_top_10/2015/nba_savant202696.csv  \n",
            "  inflating: data/shot_charts_top_10/2015/nba_savant201609.csv  \n",
            "  inflating: data/shot_charts_top_10/2015/nba_savant2548.csv  \n",
            "  inflating: data/shot_charts_top_10/2015/nba_savant2207.csv  \n",
            "  inflating: data/shot_charts_top_10/2015/nba_savant2200.csv  \n",
            "  inflating: data/shot_charts_top_10/2015/nba_savant202339.csv  \n",
            "  inflating: data/shot_charts_top_10/2015/nba_savant201939.csv  \n",
            "  inflating: data/shot_charts_top_10/2015/nba_savant203081.csv  \n",
            "   creating: data/shot_charts_top_10/2012/\n",
            "  inflating: data/shot_charts_top_10/2012/nba_savant201933.csv  \n",
            "  inflating: data/shot_charts_top_10/2012/nba_savant101145.csv  \n",
            "  inflating: data/shot_charts_top_10/2012/nba_savant200752.csv  \n",
            "  inflating: data/shot_charts_top_10/2012/nba_savant1712.csv  \n",
            "  inflating: data/shot_charts_top_10/2012/nba_savant977.csv  \n",
            "  inflating: data/shot_charts_top_10/2012/nba_savant2744.csv  \n",
            "  inflating: data/shot_charts_top_10/2012/nba_savant2546.csv  \n",
            "  inflating: data/shot_charts_top_10/2012/nba_savant2544.csv  \n",
            "  inflating: data/shot_charts_top_10/2012/nba_savant1717.csv  \n",
            "  inflating: data/shot_charts_top_10/2012/nba_savant201567.csv  \n",
            "  inflating: data/shot_charts_top_10/2012/nba_savant2746.csv  \n",
            "  inflating: data/shot_charts_top_10/2012/nba_savant201566.csv  \n",
            "  inflating: data/shot_charts_top_10/2012/nba_savant201943.csv  \n",
            "  inflating: data/shot_charts_top_10/2012/nba_savant201142.csv  \n",
            "  inflating: data/shot_charts_top_10/.DS_Store  \n",
            "   creating: __MACOSX/data/shot_charts_top_10/\n",
            "  inflating: __MACOSX/data/shot_charts_top_10/._.DS_Store  \n",
            "  inflating: data/shot_charts_top_10/1000_plus_shot_charts_2011_2016.csv  \n",
            "   creating: data/shot_charts_top_10/2011/\n",
            "  inflating: data/shot_charts_top_10/2011/nba_savant201933.csv  \n",
            "  inflating: data/shot_charts_top_10/2011/nba_savant2736.csv  \n",
            "  inflating: data/shot_charts_top_10/2011/nba_savant200745.csv  \n",
            "  inflating: data/shot_charts_top_10/2011/nba_savant101145.csv  \n",
            "  inflating: data/shot_charts_top_10/2011/nba_savant200746.csv  \n",
            "  inflating: data/shot_charts_top_10/2011/nba_savant2730.csv  \n",
            "  inflating: data/shot_charts_top_10/2011/nba_savant101109.csv  \n",
            "  inflating: data/shot_charts_top_10/2011/nba_savant201563.csv  \n",
            "  inflating: data/shot_charts_top_10/2011/nba_savant101122.csv  \n",
            "  inflating: data/shot_charts_top_10/2011/nba_savant2755.csv  \n",
            "  inflating: data/shot_charts_top_10/2011/nba_savant2225.csv  \n",
            "  inflating: data/shot_charts_top_10/2011/nba_savant2547.csv  \n",
            "  inflating: data/shot_charts_top_10/2011/nba_savant977.csv  \n",
            "  inflating: data/shot_charts_top_10/2011/nba_savant2744.csv  \n",
            "  inflating: data/shot_charts_top_10/2011/nba_savant201565.csv  \n",
            "  inflating: data/shot_charts_top_10/2011/nba_savant2546.csv  \n",
            "  inflating: data/shot_charts_top_10/2011/nba_savant1891.csv  \n",
            "  inflating: data/shot_charts_top_10/2011/nba_savant202326.csv  \n",
            "  inflating: data/shot_charts_top_10/2011/nba_savant201942.csv  \n",
            "  inflating: data/shot_charts_top_10/2011/nba_savant2544.csv  \n",
            "  inflating: data/shot_charts_top_10/2011/nba_savant1717.csv  \n",
            "  inflating: data/shot_charts_top_10/2011/nba_savant201567.csv  \n",
            "  inflating: data/shot_charts_top_10/2011/nba_savant2746.csv  \n",
            "  inflating: data/shot_charts_top_10/2011/nba_savant201566.csv  \n",
            "  inflating: data/shot_charts_top_10/2011/nba_savant201572.csv  \n",
            "  inflating: data/shot_charts_top_10/2011/nba_savant2419.csv  \n",
            "  inflating: data/shot_charts_top_10/2011/nba_savant2548.csv  \n",
            "  inflating: data/shot_charts_top_10/2011/nba_savant2561.csv  \n",
            "  inflating: data/shot_charts_top_10/2011/nba_savant2207.csv  \n",
            "  inflating: data/shot_charts_top_10/2011/nba_savant1718.csv  \n",
            "  inflating: data/shot_charts_top_10/2011/nba_savant2748.csv  \n",
            "  inflating: data/shot_charts_top_10/2011/nba_savant2200.csv  \n",
            "  inflating: data/shot_charts_top_10/2011/nba_savant1536.csv  \n",
            "  inflating: data/shot_charts_top_10/2011/nba_savant201142.csv  \n",
            "  inflating: data/shot_charts_top_10/2011/nba_savant2405.csv  \n",
            "  inflating: data/shot_charts_top_10/2011/nba_savant2202.csv  \n",
            "  inflating: data/shot_charts_top_10/2011/nba_savant2216.csv  \n",
            "  inflating: data/shot_charts_top_10/2011/nba_savant1938.csv  \n",
            "  inflating: data/shot_charts_top_10/2011/nba_savant201939.csv  \n",
            "  inflating: data/shot_charts_top_10/2011/nba_savant2449.csv  \n",
            "   creating: data/shot_charts_top_10/2016/\n",
            "  inflating: data/shot_charts_top_10/2016/nba_savant200794.csv  \n",
            "  inflating: data/shot_charts_top_10/2016/nba_savant203114.csv  \n",
            "  inflating: data/shot_charts_top_10/2016/nba_savant200768.csv  \n",
            "  inflating: data/shot_charts_top_10/2016/nba_savant203076.csv  \n",
            "  inflating: data/shot_charts_top_10/2016/nba_savant200746.csv  \n",
            "  inflating: data/shot_charts_top_10/2016/nba_savant200752.csv  \n",
            "  inflating: data/shot_charts_top_10/2016/nba_savant201935.csv  \n",
            "  inflating: data/shot_charts_top_10/2016/nba_savant101108.csv  \n",
            "  inflating: data/shot_charts_top_10/2016/nba_savant202691.csv  \n",
            "  inflating: data/shot_charts_top_10/2016/nba_savant202322.csv  \n",
            "  inflating: data/shot_charts_top_10/2016/nba_savant977.csv  \n",
            "  inflating: data/shot_charts_top_10/2016/nba_savant2546.csv  \n",
            "  inflating: data/shot_charts_top_10/2016/nba_savant202326.csv  \n",
            "  inflating: data/shot_charts_top_10/2016/nba_savant202695.csv  \n",
            "  inflating: data/shot_charts_top_10/2016/nba_savant202330.csv  \n",
            "  inflating: data/shot_charts_top_10/2016/nba_savant201942.csv  \n",
            "  inflating: data/shot_charts_top_10/2016/nba_savant2544.csv  \n",
            "  inflating: data/shot_charts_top_10/2016/nba_savant1717.csv  \n",
            "  inflating: data/shot_charts_top_10/2016/nba_savant201566.csv  \n",
            "  inflating: data/shot_charts_top_10/2016/nba_savant203952.csv  \n",
            "  inflating: data/shot_charts_top_10/2016/nba_savant202331.csv  \n",
            "  inflating: data/shot_charts_top_10/2016/nba_savant2548.csv  \n",
            "  inflating: data/shot_charts_top_10/2016/nba_savant202738.csv  \n",
            "  inflating: data/shot_charts_top_10/2016/nba_savant202704.csv  \n",
            "  inflating: data/shot_charts_top_10/2016/nba_savant202710.csv  \n",
            "  inflating: data/shot_charts_top_10/2016/nba_savant202689.csv  \n",
            "  inflating: data/shot_charts_top_10/2016/nba_savant201142.csv  \n",
            "  inflating: data/shot_charts_top_10/2016/nba_savant201143.csv  \n",
            "  inflating: data/shot_charts_top_10/2016/nba_savant1626157.csv  \n",
            "  inflating: data/shot_charts_top_10/2016/nba_savant203083.csv  \n",
            "  inflating: data/shot_charts_top_10/2016/nba_savant203081.csv  \n",
            "  inflating: data/shot_charts_top_10/2016/nba_savant203903.csv  \n",
            "  inflating: data/shot_charts_top_10/2016/nba_savant201939 (1).csv  \n",
            "  inflating: data/shot_charts_top_10/2016/nba_savant203468.csv  \n",
            "  inflating: data/shot_charts_top_10/top_10_shot_charts_2011_2016.csv  \n",
            "  inflating: data/season_totals.csv  \n",
            "  inflating: data/nba_savant.csv     \n"
          ]
        }
      ]
    },
    {
      "cell_type": "code",
      "source": [
        "df = spark.read.option('header','true')\\\n",
        "          .option('inferSchema','true')\\\n",
        "          .csv('data/season_totals.csv')"
      ],
      "metadata": {
        "id": "uzrNBHLaugLF"
      },
      "execution_count": 27,
      "outputs": []
    },
    {
      "cell_type": "code",
      "source": [
        "!ls"
      ],
      "metadata": {
        "colab": {
          "base_uri": "https://localhost:8080/"
        },
        "id": "00AMHldbu14H",
        "outputId": "222300d5-9a7f-48de-8d81-c1fa402b208f"
      },
      "execution_count": 28,
      "outputs": [
        {
          "output_type": "stream",
          "name": "stdout",
          "text": [
            "data\t  drive     sample_data\t\t     spark-3.5.1-bin-hadoop3.tgz\n",
            "data.zip  __MACOSX  spark-3.5.1-bin-hadoop3  spark-3.5.1-bin-hadoop3.tgz.1\n"
          ]
        }
      ]
    },
    {
      "cell_type": "code",
      "source": [
        "data = pd.read_csv('data/nba_savant.csv')"
      ],
      "metadata": {
        "id": "VZYiF6fQu4I9"
      },
      "execution_count": 30,
      "outputs": []
    },
    {
      "cell_type": "code",
      "source": [
        "\n",
        "print(data.describe())\n",
        "\n",
        "\n",
        "print(data.isnull().sum())\n",
        "\n",
        "\n",
        "print(data.dtypes)"
      ],
      "metadata": {
        "colab": {
          "base_uri": "https://localhost:8080/"
        },
        "id": "phpd_Bk8vEG6",
        "outputId": "1138f31e-5cf4-40c3-f7ca-5a70d359b013"
      },
      "execution_count": 31,
      "outputs": [
        {
          "output_type": "stream",
          "name": "stdout",
          "text": [
            "        season  espn_player_id       team_id  espn_game_id        period  \\\n",
            "count  50000.0    4.860600e+04  5.000000e+04  5.000000e+04  50000.000000   \n",
            "mean    2016.0    9.924612e+05  1.610613e+09  3.870526e+08      2.480280   \n",
            "std        0.0    1.382873e+06  8.661248e+00  7.320965e+07      1.119302   \n",
            "min     2016.0    2.500000e+01  1.610613e+09  0.000000e+00      1.000000   \n",
            "25%     2016.0    3.428000e+03  1.610613e+09  4.008995e+08      1.000000   \n",
            "50%     2016.0    6.448000e+03  1.610613e+09  4.008996e+08      2.000000   \n",
            "75%     2016.0    2.531047e+06  1.610613e+09  4.008998e+08      3.000000   \n",
            "max     2016.0    4.064730e+06  1.610613e+09  4.008999e+08      4.000000   \n",
            "\n",
            "       minutes_remaining  seconds_remaining  shot_made_flag  shot_distance  \\\n",
            "count       50000.000000       50000.000000    50000.000000    50000.00000   \n",
            "mean            5.330620          28.713500        0.416880       14.44758   \n",
            "std             3.454045          17.476905        0.493048       10.38892   \n",
            "min             0.000000           0.000000        0.000000        0.00000   \n",
            "25%             2.000000          14.000000        0.000000        3.00000   \n",
            "50%             5.000000          29.000000        0.000000       17.00000   \n",
            "75%             8.000000          44.000000        1.000000       24.00000   \n",
            "max            11.000000          59.000000        1.000000       86.00000   \n",
            "\n",
            "                  x             y  dribbles  touch_time  defender_name  \\\n",
            "count  50000.000000  50000.000000   50000.0     50000.0            0.0   \n",
            "mean      -2.101820     95.569200       0.0         0.0            NaN   \n",
            "std      121.171299     96.353846       0.0         0.0            NaN   \n",
            "min     -250.000000    -51.000000       0.0         0.0            NaN   \n",
            "25%      -74.000000      8.000000       0.0         0.0            NaN   \n",
            "50%        0.000000     57.000000       0.0         0.0            NaN   \n",
            "75%       66.000000    183.000000       0.0         0.0            NaN   \n",
            "max      250.000000    850.000000       0.0         0.0            NaN   \n",
            "\n",
            "       defender_distance  shot_clock  \n",
            "count            50000.0     50000.0  \n",
            "mean                 0.0         0.0  \n",
            "std                  0.0         0.0  \n",
            "min                  0.0         0.0  \n",
            "25%                  0.0         0.0  \n",
            "50%                  0.0         0.0  \n",
            "75%                  0.0         0.0  \n",
            "max                  0.0         0.0  \n",
            "name                     0\n",
            "team_name                0\n",
            "game_date                0\n",
            "season                   0\n",
            "espn_player_id        1394\n",
            "team_id                  0\n",
            "espn_game_id             0\n",
            "period                   0\n",
            "minutes_remaining        0\n",
            "seconds_remaining        0\n",
            "shot_made_flag           0\n",
            "action_type              0\n",
            "shot_type                0\n",
            "shot_distance            0\n",
            "opponent                 0\n",
            "x                        0\n",
            "y                        0\n",
            "dribbles                 0\n",
            "touch_time               0\n",
            "defender_name        50000\n",
            "defender_distance        0\n",
            "shot_clock               0\n",
            "dtype: int64\n",
            "name                  object\n",
            "team_name             object\n",
            "game_date             object\n",
            "season                 int64\n",
            "espn_player_id       float64\n",
            "team_id                int64\n",
            "espn_game_id           int64\n",
            "period                 int64\n",
            "minutes_remaining      int64\n",
            "seconds_remaining      int64\n",
            "shot_made_flag         int64\n",
            "action_type           object\n",
            "shot_type             object\n",
            "shot_distance          int64\n",
            "opponent              object\n",
            "x                      int64\n",
            "y                      int64\n",
            "dribbles               int64\n",
            "touch_time           float64\n",
            "defender_name        float64\n",
            "defender_distance    float64\n",
            "shot_clock           float64\n",
            "dtype: object\n"
          ]
        }
      ]
    },
    {
      "cell_type": "code",
      "source": [
        "import matplotlib.pyplot as plt\n",
        "import seaborn as sns\n",
        "\n",
        "# Wykres liczby strzałów w zależności od typu strzału\n",
        "sns.countplot(x='shot_type', data=data)\n",
        "plt.title('Rozkład typów strzałów')\n",
        "plt.show()"
      ],
      "metadata": {
        "colab": {
          "base_uri": "https://localhost:8080/",
          "height": 472
        },
        "id": "x93mO1nfvGQQ",
        "outputId": "bd527de1-9fe3-4c64-da9c-7b029529e156"
      },
      "execution_count": 32,
      "outputs": [
        {
          "output_type": "display_data",
          "data": {
            "text/plain": [
              "<Figure size 640x480 with 1 Axes>"
            ],
            "image/png": "[encoded data removed]"
          },
          "metadata": {}
        }
      ]
    },
    {
      "cell_type": "code",
      "source": [
        "from sklearn.model_selection import train_test_split\n",
        "\n",
        "\n",
        "data['shot_type'] = data['shot_type'].astype('category').cat.codes\n",
        "\n",
        "# Podział danych na zbiory treningowe i testowe\n",
        "X = data.drop('shot_made_flag', axis=1)\n",
        "y = data['shot_made_flag']\n",
        "X_train, X_test, y_train, y_test = train_test_split(X, y, test_size=0.3, random_state=42)"
      ],
      "metadata": {
        "id": "vcDrvl0xvHqf"
      },
      "execution_count": 33,
      "outputs": []
    },
    {
      "cell_type": "code",
      "source": [
        "import pandas as pd\n",
        "from sklearn.model_selection import train_test_split\n",
        "from sklearn.linear_model import LinearRegression\n",
        "from sklearn.metrics import mean_squared_error\n",
        "import matplotlib.pyplot as plt\n",
        "\n",
        "\n",
        "data['game_date'] = pd.to_datetime(data['game_date'])\n",
        "data['year'] = data['game_date'].dt.year\n",
        "\n"
      ],
      "metadata": {
        "id": "rO3G5iWWvJam"
      },
      "execution_count": 36,
      "outputs": []
    },
    {
      "cell_type": "code",
      "source": [
        "\n",
        "data['year'] = data['game_date'].dt.year\n",
        "\n",
        "\n",
        "annual_shots = data.groupby('year').size().reset_index(name='total_shots')"
      ],
      "metadata": {
        "id": "qMctU7Y3vomv"
      },
      "execution_count": 38,
      "outputs": []
    },
    {
      "cell_type": "code",
      "source": [
        "\n",
        "annual_shots['year_ordinal'] = pd.to_datetime(annual_shots['year'], format='%Y').map(pd.Timestamp.toordinal)"
      ],
      "metadata": {
        "id": "Hdc6Ss-9v2lT"
      },
      "execution_count": 39,
      "outputs": []
    },
    {
      "cell_type": "code",
      "source": [
        "print(data.columns)"
      ],
      "metadata": {
        "colab": {
          "base_uri": "https://localhost:8080/"
        },
        "id": "UmsGOYhxv6pT",
        "outputId": "89eda37d-8872-475f-e0e6-5d138cf9b8ce"
      },
      "execution_count": 40,
      "outputs": [
        {
          "output_type": "stream",
          "name": "stdout",
          "text": [
            "Index(['name', 'team_name', 'game_date', 'season', 'espn_player_id', 'team_id',\n",
            "       'espn_game_id', 'period', 'minutes_remaining', 'seconds_remaining',\n",
            "       'shot_made_flag', 'action_type', 'shot_type', 'shot_distance',\n",
            "       'opponent', 'x', 'y', 'dribbles', 'touch_time', 'defender_name',\n",
            "       'defender_distance', 'shot_clock', 'year'],\n",
            "      dtype='object')\n"
          ]
        }
      ]
    },
    {
      "cell_type": "code",
      "source": [
        "import pandas as pd\n",
        "\n",
        "\n",
        "data['year'] = data['game_date'].dt.year\n",
        "\n",
        "\n",
        "annual_shots = data.groupby('year').size().reset_index(name='total_shots')\n",
        "\n",
        "\n",
        "annual_shots['year_ordinal'] = pd.to_datetime(annual_shots['year'], format='%Y').map(pd.Timestamp.toordinal)\n"
      ],
      "metadata": {
        "colab": {
          "base_uri": "https://localhost:8080/"
        },
        "id": "deU4G50bwESK",
        "outputId": "24126005-cffa-436e-fbe1-713e6f9174b3"
      },
      "execution_count": 41,
      "outputs": [
        {
          "output_type": "stream",
          "name": "stdout",
          "text": [
            "   year  total_shots  year_ordinal\n",
            "0  2016        50000        735964\n"
          ]
        }
      ]
    },
    {
      "cell_type": "code",
      "source": [
        "from sklearn.linear_model import LinearRegression\n",
        "\n",
        "# Przygotowanie danych do modelowania\n",
        "X = annual_shots[['year_ordinal']]\n",
        "y = annual_shots['total_shots']\n",
        "\n",
        "# Budowanie modelu regresji liniowej\n",
        "model = LinearRegression()\n",
        "model.fit(X, y)"
      ],
      "metadata": {
        "colab": {
          "base_uri": "https://localhost:8080/",
          "height": 75
        },
        "id": "79aYeYKnwHtb",
        "outputId": "d9dd53f8-1fe5-42d7-f2f7-7b863b942d70"
      },
      "execution_count": 42,
      "outputs": [
        {
          "output_type": "execute_result",
          "data": {
            "text/plain": [
              "LinearRegression()"
            ],
            "text/html": [
              "<style>#sk-container-id-1 {color: black;background-color: white;}#sk-container-id-1 pre{padding: 0;}#sk-container-id-1 div.sk-toggleable {background-color: white;}#sk-container-id-1 label.sk-toggleable__label {cursor: pointer;display: block;width: 100%;margin-bottom: 0;padding: 0.3em;box-sizing: border-box;text-align: center;}#sk-container-id-1 label.sk-toggleable__label-arrow:before {content: \"▸\";float: left;margin-right: 0.25em;color: #696969;}#sk-container-id-1 label.sk-toggleable__label-arrow:hover:before {color: black;}#sk-container-id-1 div.sk-estimator:hover label.sk-toggleable__label-arrow:before {color: black;}#sk-container-id-1 div.sk-toggleable__content {max-height: 0;max-width: 0;overflow: hidden;text-align: left;background-color: #f0f8ff;}#sk-container-id-1 div.sk-toggleable__content pre {margin: 0.2em;color: black;border-radius: 0.25em;background-color: #f0f8ff;}#sk-container-id-1 input.sk-toggleable__control:checked~div.sk-toggleable__content {max-height: 200px;max-width: 100%;overflow: auto;}#sk-container-id-1 input.sk-toggleable__control:checked~label.sk-toggleable__label-arrow:before {content: \"▾\";}#sk-container-id-1 div.sk-estimator input.sk-toggleable__control:checked~label.sk-toggleable__label {background-color: #d4ebff;}#sk-container-id-1 div.sk-label input.sk-toggleable__control:checked~label.sk-toggleable__label {background-color: #d4ebff;}#sk-container-id-1 input.sk-hidden--visually {border: 0;clip: rect(1px 1px 1px 1px);clip: rect(1px, 1px, 1px, 1px);height: 1px;margin: -1px;overflow: hidden;padding: 0;position: absolute;width: 1px;}#sk-container-id-1 div.sk-estimator {font-family: monospace;background-color: #f0f8ff;border: 1px dotted black;border-radius: 0.25em;box-sizing: border-box;margin-bottom: 0.5em;}#sk-container-id-1 div.sk-estimator:hover {background-color: #d4ebff;}#sk-container-id-1 div.sk-parallel-item::after {content: \"\";width: 100%;border-bottom: 1px solid gray;flex-grow: 1;}#sk-container-id-1 div.sk-label:hover label.sk-toggleable__label {background-color: #d4ebff;}#sk-container-id-1 div.sk-serial::before {content: \"\";position: absolute;border-left: 1px solid gray;box-sizing: border-box;top: 0;bottom: 0;left: 50%;z-index: 0;}#sk-container-id-1 div.sk-serial {display: flex;flex-direction: column;align-items: center;background-color: white;padding-right: 0.2em;padding-left: 0.2em;position: relative;}#sk-container-id-1 div.sk-item {position: relative;z-index: 1;}#sk-container-id-1 div.sk-parallel {display: flex;align-items: stretch;justify-content: center;background-color: white;position: relative;}#sk-container-id-1 div.sk-item::before, #sk-container-id-1 div.sk-parallel-item::before {content: \"\";position: absolute;border-left: 1px solid gray;box-sizing: border-box;top: 0;bottom: 0;left: 50%;z-index: -1;}#sk-container-id-1 div.sk-parallel-item {display: flex;flex-direction: column;z-index: 1;position: relative;background-color: white;}#sk-container-id-1 div.sk-parallel-item:first-child::after {align-self: flex-end;width: 50%;}#sk-container-id-1 div.sk-parallel-item:last-child::after {align-self: flex-start;width: 50%;}#sk-container-id-1 div.sk-parallel-item:only-child::after {width: 0;}#sk-container-id-1 div.sk-dashed-wrapped {border: 1px dashed gray;margin: 0 0.4em 0.5em 0.4em;box-sizing: border-box;padding-bottom: 0.4em;background-color: white;}#sk-container-id-1 div.sk-label label {font-family: monospace;font-weight: bold;display: inline-block;line-height: 1.2em;}#sk-container-id-1 div.sk-label-container {text-align: center;}#sk-container-id-1 div.sk-container {/* jupyter's `normalize.less` sets `[hidden] { display: none; }` but bootstrap.min.css set `[hidden] { display: none !important; }` so we also need the `!important` here to be able to override the default hidden behavior on the sphinx rendered scikit-learn.org. See: https://github.com/scikit-learn/scikit-learn/issues/21755 */display: inline-block !important;position: relative;}#sk-container-id-1 div.sk-text-repr-fallback {display: none;}</style><div id=\"sk-container-id-1\" class=\"sk-top-container\"><div class=\"sk-text-repr-fallback\"><pre>LinearRegression()</pre><b>In a Jupyter environment, please rerun this cell to show the HTML representation or trust the notebook. <br />On GitHub, the HTML representation is unable to render, please try loading this page with nbviewer.org.</b></div><div class=\"sk-container\" hidden><div class=\"sk-item\"><div class=\"sk-estimator sk-toggleable\"><input class=\"sk-toggleable__control sk-hidden--visually\" id=\"sk-estimator-id-1\" type=\"checkbox\" checked><label for=\"sk-estimator-id-1\" class=\"sk-toggleable__label sk-toggleable__label-arrow\">LinearRegression</label><div class=\"sk-toggleable__content\"><pre>LinearRegression()</pre></div></div></div></div></div>"
            ]
          },
          "metadata": {},
          "execution_count": 42
        }
      ]
    },
    {
      "cell_type": "code",
      "source": [
        "# Predykcja dla roku 2022\n",
        "year_2022_ordinal = pd.Timestamp('2022-01-01').toordinal()\n",
        "predicted_shots_2022 = model.predict([[year_2022_ordinal]])\n",
        "\n",
        "print(f\"Przewidywana liczba strzałów na koniec 2022 roku: {predicted_shots_2022[0]}\")"
      ],
      "metadata": {
        "colab": {
          "base_uri": "https://localhost:8080/"
        },
        "id": "-cE3Cp3cwJcu",
        "outputId": "10cdd5d7-6fef-4966-98a0-7d4a28465d55"
      },
      "execution_count": 43,
      "outputs": [
        {
          "output_type": "stream",
          "name": "stdout",
          "text": [
            "Przewidywana liczba strzałów na koniec 2022 roku: 50000.0\n"
          ]
        },
        {
          "output_type": "stream",
          "name": "stderr",
          "text": [
            "/usr/local/lib/python3.10/dist-packages/sklearn/base.py:439: UserWarning: X does not have valid feature names, but LinearRegression was fitted with feature names\n",
            "  warnings.warn(\n"
          ]
        }
      ]
    }
  ]
}